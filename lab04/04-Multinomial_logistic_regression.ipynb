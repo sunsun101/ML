{
 "cells": [
  {
   "cell_type": "markdown",
   "metadata": {},
   "source": [
    "Before you turn this problem in, make sure everything runs as expected. First, restart the kernel (in the menubar, select Kernel$\\rightarrow$Restart) and then run all cells (in the menubar, select Cell$\\rightarrow$Run All).\n",
    "\n",
    "Make sure you fill in any place that says YOUR CODE HERE or \"YOUR ANSWER HERE\", as well as your name and collaborators below:"
   ]
  },
  {
   "cell_type": "code",
   "execution_count": 1,
   "metadata": {},
   "outputs": [],
   "source": [
    "NAME = \"Sunsun Kasajoo\"\n",
    "ID = \"st122283\""
   ]
  },
  {
   "cell_type": "markdown",
   "metadata": {},
   "source": [
    "# Machine Learning Lab 04: Multinomial Logistic Regression\n"
   ]
  },
  {
   "cell_type": "markdown",
   "metadata": {},
   "source": [
    "## Generalized Linear Models\n",
    "\n",
    "From lecture, we know that members of the exponential family distributions can be written in the form\n",
    "$$p(y;\\eta) = b(y)e^{(\\eta^\\top T(y)-a(\\eta))},$$\n",
    "where\n",
    "- $\\eta$ is the natural parameter or canonical paramter of the distribution,\n",
    "- $T(y)$ is the sufficient statistic (we normally use $T(y) = y$),\n",
    "- $b(y)$ is an arbitrary scalar function of y, and\n",
    "- $a(\\eta)$ is the log partition function. We use $e^{a(\\eta)}$ just to normalize the distribution to have a sum or integral of 1.\n",
    "\n",
    "Each choice of $T$, $a$, and $b$ defines a family (set) of distributions parameterized by $\\eta$.\n",
    "\n",
    "If we can write $p(y \\mid \\mathbf{x} ; \\theta)$ as a member of the exponential family of distributions with parameters $\\mathbf{\\eta}$ with\n",
    "$\\eta_i = \\theta^\\top_i \\mathbf{x}$, we obtain a *generalized linear model* that can be optimized using the maximum likelihood principle.\n",
    "\n",
    "The GLM for the Gaussian distribution with natural parameter $\\eta$ being the mean of the Gaussian gives us ordinary linear regression.\n",
    "\n",
    "The Bernoulli distribution with parameter $\\phi$ can be written as an exponential distribution\n",
    "with natural parmeter $\\eta = \\log \\frac{\\phi}{1-\\phi}$. The GLM for this distribution is logistic regression.\n",
    "\n",
    "When we write the multinomial distribution with paremeters $\\phi_i > 0$ for classes $i \\in 1..K$ with the constraint that\n",
    "$$\\sum_{i=1}^{K} \\phi_i = 1$$ as a member of the exponential family,\n",
    "the resulting GLM is called *multinomial logistic regression*. The parameters $\\phi_1, \\ldots, \\phi_K$ are written\n",
    "in terms of $\\theta$ as\n",
    "$$\\phi_i = p(y = i \\mid \\mathbf{x}; \\theta) = \\frac{e^{\\theta^\\top_i \\mathbf{x}}}{\\sum_{j=1}^{K}e^{\\theta^\\top_j \\mathbf{x}}}. $$"
   ]
  },
  {
   "cell_type": "markdown",
   "metadata": {},
   "source": [
    "## Optimizing a Multinomial Regression Model\n",
    "\n",
    "In multinomial regression, we have\n",
    "\n",
    "1. Data are pairs $\\mathbf{x}^{(i)}, y^{(i)}$ with $\\mathbf{x}^{(i)} \\in \\mathbb{R}^n$ and\n",
    "   $y \\in 1..K$.\n",
    "   \n",
    "2. The hypothesis is a vector-valued function\n",
    "$$\\mathbf{h}_\\theta(\\mathbf{x}) = \\begin{bmatrix} p(y = 1 \\mid \\mathbf{x} ; \\theta) \\\\\n",
    "                                         p(y = 2 \\mid \\mathbf{x} ; \\theta) \\\\\n",
    "                                         \\vdots \\\\\n",
    "                                         p(y = K \\mid \\mathbf{x} ; \\theta) \\end{bmatrix},$$\n",
    "    where $$p(y = i \\mid \\mathbf{x}) = \\phi_i = p(y = i \\mid \\mathbf{x}; \\theta) = \\frac{e^{\\theta^\\top_i \\mathbf{x}}}{\\sum_{j=1}^{K}e^{\\theta^\\top_j \\mathbf{x}}}. $$\n",
    "\n",
    "We need a cost function and a way to minimize that cost function. As usual, we try to find the parameters maximizing the likelihood or log likelihood function, or equivalently, minimizing the negative log likelihood function:\n",
    "\n",
    "$$\\theta^* = \\text{argmax}_\\theta {\\cal L}(\\theta) =\n",
    "             \\text{argmax}_\\theta \\ell(\\theta) =\n",
    "             \\text{argmin}_\\theta J(\\theta),$$\n",
    "where\n",
    "$$\\begin{eqnarray}\n",
    "   J(\\theta) & = & - \\ell(\\theta) \\\\\n",
    "   & = & - \\sum_{i=1}^m \\log p(y^{(i)} \\mid \\textbf{x}^{(i)} ; \\theta).\n",
    "   \\end{eqnarray}$$\n",
    "\n",
    "Now that we know what is $J(\\theta)$, let's try to find its minimimum by taking the derivatives with respect to an arbitrary parameter $\\theta_{kl}$, the $l$-th element of the parameter vector $\\theta_k$ for class $k$. Before we start, let's define a variable $a_k$ as the linear activation for class $k$ in the softmax function:\n",
    "$$ a_k = \\theta_k^\\top \\mathbf{x}^{(i)}, $$\n",
    "and rewrite the softmax more conveniently as\n",
    "$$ \\phi_k = \\frac{e^{a_k}}{\\sum_{j=1}^K e^{a_j}}. $$\n",
    "That makes it a little easier to compute the gradient:\n",
    "$$\\begin{eqnarray}\n",
    "   \\frac{\\partial J}{\\partial \\theta_{kl}} & = & - \\sum_{i=1}^m \\frac{1}{\\phi_{y^{(i)}}} \\frac{\\partial \\phi_{y^{(i)}}}{\\partial \\theta_{kl}}. \\\\\n",
    "   \\end{eqnarray}$$\n",
    "Using the chain rule, we have\n",
    "$$\\frac{\\partial \\phi_{y^{(i)}}}{\\partial \\theta_{kl}} = \\sum_{j=1}^K \\frac{\\partial \\phi_{y^{(i)}}}{\\partial a_j} \\frac{\\partial a_j}{\\partial \\theta_{kl}}$$\n",
    "The second factor is easy:\n",
    "$$ \\frac{\\partial a_j}{\\partial \\theta_{kl}} = \\delta(k=j)x^{(i)}_l. $$\n",
    "For the first factor, we have\n",
    "$$\\begin{eqnarray}\n",
    "\\frac{\\partial \\phi_{y^{(i)}}}{\\partial a_j}\n",
    "& = & \\frac{ \\left[ \\delta(y^{(i)}=j)e^{a_j} \\sum_{c=1}^K e^{a_c} \\right] - e^{a_j} e^{a_j} }{\\left[ \\sum_{c=1}^K e^{a_c} \\right]^2} \\\\\n",
    "& = & \\delta(y^{(i)}=j) \\phi_j - \\phi_j^2\n",
    "\\end{eqnarray}$$\n",
    "\n",
    "Substituting what we've derived into the definition above, we obtain\n",
    "$$ \\frac{\\partial J}{\\theta_{kl}} = - \\sum_{i=1}^m \\sum_{j=1}^K (\\delta(y^{(i)}=j) - \\phi_j) \\frac{\\partial a_j}{\\partial \\theta_{kl}}. $$\n",
    "\n",
    "There are two ways to do the calculation.\n",
    "In deep neural networks with multinomial outputs, we want to first calculate the $\\frac{\\partial J}{\\partial a_j}$ terms then use them to calculate $\\frac{\\partial J}{\\partial \\theta_{kl}}$.\n",
    "\n",
    "However, if we only have the \"single layer\" model described up till now, we note\n",
    "that\n",
    "$$\\frac{\\partial a_j}{\\partial \\theta_{kl}} = \\delta(j=k) x^{(i)}_l,$$\n",
    "so we can simplify as follows:\n",
    "$$\\begin{eqnarray}\n",
    "  \\frac{\\partial J}{\\theta_{kl}} & = & - \\sum_{i=1}^m \\sum_{j=1}^K (\\delta(y^{(i)}=j) - \\phi_j) \\frac{\\partial a_j}{\\partial \\theta_{kl}} \\\\\n",
    "  & = & - \\sum_{i=1}^m \\sum_{j=1}^K (\\delta(y^{(i)}=j) - \\phi_j) \\delta(j=k) x^{(i)}_l \\\\\n",
    "  & = & - \\sum_{i=1}^m (\\delta(y^{(i)}=k) - \\phi_k) x^{(i)}_l \\\\\n",
    "  \\end{eqnarray}$$"
   ]
  },
  {
   "cell_type": "markdown",
   "metadata": {},
   "source": [
    "## Put It Together\n",
    "\n",
    "OK! Now we have all 4 criteria for our multinomial regression model:\n",
    "\n",
    "1. Data are pairs $\\mathbf{x}^{(i)}, y^{(i)}$ with $\\mathbf{x}^{(i)} \\in \\mathbb{R}^n$ and\n",
    "   $y \\in 1..K$.\n",
    "   \n",
    "2. The hypothesis is a vector-valued function\n",
    "$$\\mathbf{h}_\\theta(\\mathbf{x}) = \\begin{bmatrix} p(y = 1 \\mid \\mathbf{x} ; \\theta) \\\\\n",
    "                                         p(y = 2 \\mid \\mathbf{x} ; \\theta) \\\\\n",
    "                                         \\vdots \\\\\n",
    "                                         p(y = K \\mid \\mathbf{x} ; \\theta) \\end{bmatrix},$$\n",
    "    where $$p(y = i \\mid \\mathbf{x}) = \\phi_i = p(y = i \\mid \\mathbf{x}; \\theta) = \\frac{e^{\\theta^\\top_i \\mathbf{x}}}{\\sum_{j=1}^{K}e^{\\theta^\\top_j \\mathbf{x}}}. $$\n",
    "    \n",
    "3. The cost function is\n",
    "   $$J(\\theta) = - \\sum_{i=1}^m \\log p(y^{(i)} \\mid \\textbf{x}^{(i)})$$\n",
    "   \n",
    "4. The optimization algorithm is gradient descent on $J(\\theta)$ with the update rule\n",
    "   $$\\theta_{kl}^{(n+1)} \\leftarrow \\theta_{kl}^{(n)} - \\alpha \\sum_{i=1}^m (\\delta(y^{(i)}=k) - \\phi_k) x^{(i)}_l.$$\n"
   ]
  },
  {
   "cell_type": "markdown",
   "metadata": {},
   "source": [
    "## Multinomial Regression Example\n",
    "\n",
    "The following example of multinomial logistic regression is from [Kaggle](https://www.kaggle.com/saksham219/softmax-regression-for-iris-classification).\n",
    "\n",
    "The data set is the famous [Iris dataset from the UCI machine learning repository](https://archive.ics.uci.edu/ml/datasets/iris).\n",
    "\n",
    "The data contain 50 samples from each of three classes. Each class refers to a particular species of the iris plant. \n",
    "The data include four independent variables:\n",
    "1. Sepal length in cm\n",
    "2. Sepal width in cm\n",
    "3. Petal length in cm\n",
    "4. Petal width in cm\n",
    "\n",
    "The target takes on one of three classes:\n",
    "1. Iris Setosa\n",
    "2. Iris Versicolour\n",
    "3. Iris Virginica\n",
    "   \n",
    "To predict the target value, we use multinomial logistic regression for $k=3$ classes i.e. $y \\in \\{ 1, 2, 3 \\}$. \n",
    "\n",
    "Given $\\mathbf{x}$, we would like to predict a probability distribution over the\n",
    "three outcomes for $y$, i.e., $\\phi_1 = p(y=1 \\mid \\mathbf{x})$, $\\phi_2 = p(y=2 \\mid \\mathbf{x})$, and $\\phi_3 = p(y=3 \\mid \\mathbf{x})$.\n"
   ]
  },
  {
   "cell_type": "code",
   "execution_count": 2,
   "metadata": {},
   "outputs": [],
   "source": [
    "# importing libraries\n",
    "import numpy as np\n",
    "import pandas as pd \n",
    "import random\n",
    "import math"
   ]
  },
  {
   "cell_type": "markdown",
   "metadata": {},
   "source": [
    "The `phi` function returns $\\phi_i$ for input patterns $\\mathtt{X}$ and parameters $\\theta$."
   ]
  },
  {
   "cell_type": "code",
   "execution_count": 3,
   "metadata": {},
   "outputs": [],
   "source": [
    "def phi(i, theta, X, num_class):\n",
    "    \"\"\"\n",
    "    Here is how to make documentation for your function show up in intellisense.\n",
    "    Explanation you put here will be shown when you use it.\n",
    "    \n",
    "    To get intellisense in your Jupyter notebook:\n",
    "        - Press 'TAB' after typing a dot (.) to see methods and attributes\n",
    "        - Press 'Shift+TAB' after typing a function name to see its documentation\n",
    "\n",
    "    The `phi` function returns phi_i = h_theta(x) for input patterns X and parameters theta.\n",
    "    \n",
    "    Inputs:\n",
    "        i=index of phi\n",
    "        \n",
    "        X=input dataset\n",
    "        \n",
    "        theta=parameters\n",
    "\n",
    "    Returns:\n",
    "        phi_i\n",
    "    \"\"\"\n",
    "    mat_theta = np.matrix(theta[i])\n",
    "    mat_x = np.matrix(X)\n",
    "    num = math.exp(np.dot(mat_theta, mat_x.T))\n",
    "    den = 0\n",
    "    for j in range(0,num_class):\n",
    "        mat_theta_j = np.matrix(theta[j])\n",
    "        den = den + math.exp(np.dot(mat_theta_j, mat_x.T))\n",
    "    phi_i = num / den\n",
    "    return phi_i"
   ]
  },
  {
   "attachments": {
    "lab4-01.png": {
     "image/png": "[encoded data removed]"
    }
   },
   "cell_type": "markdown",
   "metadata": {
    "deletable": false,
    "editable": false,
    "nbgrader": {
     "cell_type": "markdown",
     "checksum": "7bbfb7d7db673b01e26f88fec69cd486",
     "grade": false,
     "grade_id": "cell-f6c98aabf4060a6e",
     "locked": true,
     "schema_version": 3,
     "solution": false,
     "task": false
    }
   },
   "source": [
    "**Tips for using intellisense: Shift+TAB**\n",
    "\n",
    "![lab4-01.png](attachment:lab4-01.png)"
   ]
  },
  {
   "cell_type": "markdown",
   "metadata": {},
   "source": [
    "The `grad_cost` function gives the gradient of the cost for data $\\mathtt{X}, \\mathbf{y}$ for class $j\\in 1..k$."
   ]
  },
  {
   "cell_type": "code",
   "execution_count": 4,
   "metadata": {},
   "outputs": [],
   "source": [
    "def indicator(i, j):\n",
    "    '''\n",
    "    Check whether i is equal to j\n",
    "    \n",
    "    Return:\n",
    "        1 when i=j, otherwise 0\n",
    "    '''\n",
    "    if i == j: return 1\n",
    "    else: return 0\n",
    "\n",
    "\n",
    "def grad_cost(X, y, j, theta, num_class):\n",
    "    '''\n",
    "    Compute the gradient of the cost function for data X, y for parameters of\n",
    "    output for class j in 1..k\n",
    "    '''\n",
    "    m, n = X.shape\n",
    "    sum = np.array([0 for i in range(0,n)])\n",
    "    for i in range(0, m):\n",
    "        p = indicator(y[i], j) - phi(j, theta, X.loc[i], num_class)\n",
    "        sum = sum + (X.loc[i] * p)\n",
    "    grad = -sum / m\n",
    "    return grad\n",
    "\n",
    "def gradient_descent(X, y, theta, alpha, iters, num_class):\n",
    "    '''\n",
    "    Perform iters iterations of gradient descent: theta_new = theta_old - alpha * cost\n",
    "    '''\n",
    "    n = X.shape[1]\n",
    "    for iter in range(iters):\n",
    "        dtheta = np.zeros((num_class, n))\n",
    "        for j in range(0, num_class):\n",
    "            dtheta[j,:] = grad_cost(X, y, j, theta, num_class)\n",
    "        theta = theta - alpha * dtheta\n",
    "    return theta\n",
    "\n",
    "def h(X, theta, num_class):\n",
    "    '''\n",
    "    Hypothesis function: h_theta(X) = theta * X\n",
    "    '''\n",
    "    X = np.matrix(X)\n",
    "    h_matrix = np.empty((num_class,1))\n",
    "    den = 0\n",
    "    for j in range(0, num_class):\n",
    "        den = den + math.exp(np.dot(theta[j], X.T))\n",
    "    for i in range(0,num_class):\n",
    "        h_matrix[i] = math.exp(np.dot(theta[i], X.T))\n",
    "    h_matrix = h_matrix / den\n",
    "    return h_matrix"
   ]
  },
  {
   "cell_type": "markdown",
   "metadata": {
    "deletable": false,
    "editable": false,
    "nbgrader": {
     "cell_type": "markdown",
     "checksum": "ae6bc59fd16f769612e9610237a581c7",
     "grade": false,
     "grade_id": "cell-7ef5fafee187b7b0",
     "locked": true,
     "schema_version": 3,
     "solution": false,
     "task": false
    }
   },
   "source": [
    "## Exercise 1.1 (5 points)\n",
    "\n",
    "Create a function to load **data** from **Iris.csv** using the Pandas library and extract y from the data.\n",
    "\n",
    "You can use [the Pandas 10 minute guide](https://pandas.pydata.org/pandas-docs/stable/user_guide/10min.html) to learn how to use pandas."
   ]
  },
  {
   "cell_type": "code",
   "execution_count": 5,
   "metadata": {
    "deletable": false,
    "nbgrader": {
     "cell_type": "code",
     "checksum": "628cb1c0a7d70ab1055c7b3517979f8b",
     "grade": false,
     "grade_id": "cell-d063fd66918f3b47",
     "locked": false,
     "schema_version": 3,
     "solution": true,
     "task": false
    }
   },
   "outputs": [],
   "source": [
    "def load_data(file_name, drop_label, y_label, is_print=False):\n",
    "    # 1. Load csv file\n",
    "    data = pd.read_csv(file_name)\n",
    "    if is_print:\n",
    "        print(data.head())\n",
    "    # 2. remove 'Id' column from data\n",
    "    if drop_label is not None:\n",
    "        data = data.drop([drop_label],axis=1)\n",
    "        if is_print:\n",
    "            print(data.head())\n",
    "    # 3. Extract y_label column as y from data\n",
    "    y = data.loc[:,y_label]\n",
    "    # 4. get index of y-column\n",
    "    y_index = data.columns.get_loc(y_label)\n",
    "    # 5. Extrack X features from data\n",
    "    X = data.iloc[:,data.columns != y_label]\n",
    "    return X, y"
   ]
  },
  {
   "cell_type": "code",
   "execution_count": 6,
   "metadata": {
    "deletable": false,
    "editable": false,
    "nbgrader": {
     "cell_type": "code",
     "checksum": "e754d7fcc097ad58a8f5cb616fec5605",
     "grade": true,
     "grade_id": "cell-7b5c0f18770fbccb",
     "locked": true,
     "points": 5,
     "schema_version": 3,
     "solution": false,
     "task": false
    }
   },
   "outputs": [
    {
     "name": "stdout",
     "output_type": "stream",
     "text": [
      "   Id  SepalLengthCm  SepalWidthCm  PetalLengthCm  PetalWidthCm      Species\n",
      "0   1            5.1           3.5            1.4           0.2  Iris-setosa\n",
      "1   2            4.9           3.0            1.4           0.2  Iris-setosa\n",
      "2   3            4.7           3.2            1.3           0.2  Iris-setosa\n",
      "3   4            4.6           3.1            1.5           0.2  Iris-setosa\n",
      "4   5            5.0           3.6            1.4           0.2  Iris-setosa\n",
      "   SepalLengthCm  SepalWidthCm  PetalLengthCm  PetalWidthCm      Species\n",
      "0            5.1           3.5            1.4           0.2  Iris-setosa\n",
      "1            4.9           3.0            1.4           0.2  Iris-setosa\n",
      "2            4.7           3.2            1.3           0.2  Iris-setosa\n",
      "3            4.6           3.1            1.5           0.2  Iris-setosa\n",
      "4            5.0           3.6            1.4           0.2  Iris-setosa\n",
      "   SepalLengthCm  SepalWidthCm  PetalLengthCm  PetalWidthCm\n",
      "0            5.1           3.5            1.4           0.2\n",
      "1            4.9           3.0            1.4           0.2\n",
      "2            4.7           3.2            1.3           0.2\n",
      "3            4.6           3.1            1.5           0.2\n",
      "4            5.0           3.6            1.4           0.2\n",
      "0    Iris-setosa\n",
      "1    Iris-setosa\n",
      "2    Iris-setosa\n",
      "3    Iris-setosa\n",
      "4    Iris-setosa\n",
      "Name: Species, dtype: object\n",
      "success!\n"
     ]
    }
   ],
   "source": [
    "X, y = load_data('Iris.csv', 'Id', 'Species', True)\n",
    "print(X.head())\n",
    "print(y[:5])\n",
    "\n",
    "# Test function: Do not remove\n",
    "# tips: this is how to create dataset using pandas\n",
    "d_ex = {'ID':     [  1,   2,   3,    4,    5,    6,    7],\n",
    "        'Grade':  [3.5, 2.5, 3.0, 3.75, 2.83, 3.95, 2.68],\n",
    "        'Type':   ['A', 'B', 'C',  'A',  'C',  'A',  'B']\n",
    "        }\n",
    "df = pd.DataFrame (d_ex, columns = ['ID','Grade', 'Type'])\n",
    "df.to_csv('out.csv', index=False)\n",
    "\n",
    "Xtest, ytest = load_data('out.csv', 'ID', 'Type')\n",
    "assert len(Xtest.columns) == 1, 'number of X_columns incorrect (1)'\n",
    "assert ytest.name == 'Type', 'Extract y_column is incorrect (1)'\n",
    "assert ytest.shape == (7,), 'number of y is incorrect (1)'\n",
    "assert 'Grade' in Xtest.columns, 'Incorrect columns in X (1)'\n",
    "Xtest, ytest = load_data('out.csv', None, 'Type')\n",
    "assert len(Xtest.columns) == 2, 'number of X_columns incorrect (2)'\n",
    "assert ytest.name == 'Type', 'Extract y_column is incorrect (2)'\n",
    "assert ytest.shape == (7,), 'number of y is incorrect (2)'\n",
    "assert 'Grade' in Xtest.columns and 'ID' in Xtest.columns, 'Incorrect columns in X (2)'\n",
    "import os\n",
    "os.remove('out.csv')\n",
    "\n",
    "assert len(X.columns) == 4, 'number of X_columns incorrect (3)'\n",
    "assert 'SepalWidthCm' in X.columns and 'Id' not in X.columns and 'Species' not in X.columns, 'Incorrect columns in X (3)'\n",
    "assert y.name == 'Species', 'Extract y_column is incorrect (3)'\n",
    "assert y.shape == (150,), 'number of y is incorrect (3)'\n",
    "\n",
    "print(\"success!\")\n",
    "# End Test function"
   ]
  },
  {
   "cell_type": "markdown",
   "metadata": {
    "deletable": false,
    "editable": false,
    "nbgrader": {
     "cell_type": "markdown",
     "checksum": "a30e2254d1c1f2935402bbb25f7cbf8c",
     "grade": false,
     "grade_id": "cell-2549563cd9338d95",
     "locked": true,
     "schema_version": 3,
     "solution": false,
     "task": false
    }
   },
   "source": [
    "**Expected result**: \\\n",
    "   SepalLengthCm  SepalWidthCm  PetalLengthCm  PetalWidthCm \\\n",
    "0            5.1           3.5            1.4           0.2\\\n",
    "1            4.9           3.0            1.4           0.2\\\n",
    "2            4.7           3.2            1.3           0.2\\\n",
    "3            4.6           3.1            1.5           0.2\\\n",
    "4            5.0           3.6            1.4           0.2\\\n",
    "0    Iris-setosa\\\n",
    "1    Iris-setosa\\\n",
    "2    Iris-setosa\\\n",
    "3    Iris-setosa\\\n",
    "4    Iris-setosa\\\n",
    "Name: Species, dtype: object"
   ]
  },
  {
   "cell_type": "markdown",
   "metadata": {
    "deletable": false,
    "editable": false,
    "nbgrader": {
     "cell_type": "markdown",
     "checksum": "1bce059019c7763d77c2f095596f67ec",
     "grade": false,
     "grade_id": "cell-507051f801249765",
     "locked": true,
     "schema_version": 3,
     "solution": false,
     "task": false
    }
   },
   "source": [
    "## Exercise 1.2 (10 points)\n",
    "\n",
    "Partition data into training and test sets\n",
    "- No need to use random.seed function!\n",
    "- Ensure that the train set is 70% and the test set is 30% of the data.\n",
    "- Encode the labels in the y attribute to be integers in the range 0..k-1.\n",
    "\n",
    "<details>\n",
    "    <summary><font size=\"3\" color=\"green\"><b>Hint:</b></font></summary>\n",
    "    You can use the <tt>partition</tt> function from lab02 if you like\n",
    "    <p></p>\n",
    "    <a href=\"https://pandas.pydata.org/pandas-docs/stable/reference/api/pandas.DataFrame.iloc.html\">panda.iloc</a> must be used to extract data from an index list\n",
    "    <p></p>\n",
    "    <a href=\"https://pandas.pydata.org/docs/reference/api/pandas.unique.html\">panda.unique</a> will give you the set of unique labels\n",
    "</details>"
   ]
  },
  {
   "cell_type": "code",
   "execution_count": 7,
   "metadata": {
    "deletable": false,
    "nbgrader": {
     "cell_type": "code",
     "checksum": "4b840baf518302ae39dee4e9325d912d",
     "grade": false,
     "grade_id": "cell-eb7e4dd82f395754",
     "locked": false,
     "schema_version": 3,
     "solution": true,
     "task": false
    }
   },
   "outputs": [],
   "source": [
    "def partition(X, y, percent_train):\n",
    "    m, n = X.shape\n",
    "    print(\"SHAPE ===>\")\n",
    "\n",
    "    # 1. create index list\n",
    "    idx = np.arange(0, m)\n",
    "    # 2. shuffle index\n",
    "    random.shuffle(idx)\n",
    "    \n",
    "    # 3. Create train/test index\n",
    "    percent_train = .7\n",
    "    m_train = int(m * percent_train)\n",
    "    train_idx = idx[0:m_train]\n",
    "    test_idx = idx[m_train:]\n",
    "    \n",
    "    # 4. Separate X_Train, y_train, X_test, y_test\n",
    "    X_train = X.iloc[train_idx,:];\n",
    "    X_test = X.iloc[test_idx,:];\n",
    "    y_train = y.iloc[train_idx];\n",
    "    y_test = y.iloc[test_idx];\n",
    "    \n",
    "    # 5. Get y_labels_name from y using pandas.unique function\n",
    "    y_labels_name = pd.unique(y)\n",
    "    y_labels_new = []\n",
    "    # 6. Change y_labels_name into string number and put into y_labels_new\n",
    "    for i in range(len(y_labels_name)):\n",
    "        y_labels_new.append(i)\n",
    "        \n",
    "    y_train.replace(y_labels_name, y_labels_new, inplace = True)\n",
    "    y_test.replace(y_labels_name, y_labels_new, inplace = True)\n",
    "        \n",
    "    # 7. Drop shuffle index columns\n",
    "    X_train.reset_index(drop=True, inplace=True)\n",
    "    y_train.reset_index(drop=True, inplace=True)\n",
    "    X_test.reset_index(drop=True, inplace=True)\n",
    "    y_test.reset_index(drop=True, inplace=True)\n",
    "    #     - pandas.reset_index() and pandas.drop(...) might be help\n",
    "    return idx, X_train, y_train, X_test, y_test, y_labels_name, y_labels_new"
   ]
  },
  {
   "cell_type": "code",
   "execution_count": 8,
   "metadata": {
    "deletable": false,
    "editable": false,
    "nbgrader": {
     "cell_type": "code",
     "checksum": "d6dd3918ae4421e104c8fe2687322be6",
     "grade": true,
     "grade_id": "cell-57199b8ae505edd8",
     "locked": true,
     "points": 10,
     "schema_version": 3,
     "solution": false,
     "task": false
    }
   },
   "outputs": [
    {
     "name": "stdout",
     "output_type": "stream",
     "text": [
      "SHAPE ===>\n",
      "X_train.shape (105, 4)\n",
      "X_test.shape (45, 4)\n",
      "y_train.shape (105,)\n",
      "y_test.shape (45,)\n",
      "y_labels_name:  ['Iris-setosa' 'Iris-versicolor' 'Iris-virginica']\n",
      "y_labels_new:  [0, 1, 2]\n",
      "   SepalLengthCm  SepalWidthCm  PetalLengthCm  PetalWidthCm\n",
      "0            5.1           2.5            3.0           1.1\n",
      "1            5.4           3.7            1.5           0.2\n",
      "2            6.9           3.2            5.7           2.3\n",
      "3            5.0           3.4            1.5           0.2\n",
      "4            4.7           3.2            1.6           0.2\n",
      "0    1\n",
      "1    0\n",
      "2    2\n",
      "3    0\n",
      "4    0\n",
      "Name: Species, dtype: int64\n",
      "success!\n"
     ]
    }
   ],
   "source": [
    "percent_train = 0.7\n",
    "idx, X_train, y_train, X_test, y_test, y_labels_name, y_labels_new = partition(X, y, percent_train)\n",
    "print('X_train.shape', X_train.shape)\n",
    "print('X_test.shape', X_test.shape)\n",
    "print('y_train.shape', y_train.shape)\n",
    "print('y_test.shape', y_test.shape)\n",
    "print('y_labels_name: ', y_labels_name)\n",
    "print('y_labels_new: ', y_labels_new)\n",
    "print(X_train.head())\n",
    "print(y_train.head())\n",
    "\n",
    "# Test function: Do not remove\n",
    "assert len(y_labels_name) == 3 and len(y_labels_new) == 3, 'number of y uniques are incorrect'\n",
    "assert X_train.shape == (105, 4), 'Size of X_train is incorrect'\n",
    "assert X_test.shape == (45, 4), 'Size of x_test is incorrect'\n",
    "assert y_train.shape == (105, ), 'Size of y_train is incorrect'\n",
    "assert y_test.shape == (45, ), 'Size of y_test is incorrect'\n",
    "assert 'Iris-setosa' in y_labels_name and 'Iris-virginica' in y_labels_name and \\\n",
    "        'Iris-versicolor' in y_labels_name, 'y unique data incorrect'\n",
    "assert min(y_labels_new) == 0 and max(y_labels_new) < 3, 'label indices are incorrect'\n",
    "\n",
    "print(\"success!\")\n",
    "# End Test function"
   ]
  },
  {
   "cell_type": "markdown",
   "metadata": {
    "deletable": false,
    "editable": false,
    "nbgrader": {
     "cell_type": "markdown",
     "checksum": "b9470594d08018205e3db8c74957f49d",
     "grade": false,
     "grade_id": "cell-ce816c5bfbade0a9",
     "locked": true,
     "schema_version": 3,
     "solution": false,
     "task": false
    }
   },
   "source": [
    "**Expected result**: <span style=\"color:blue\">(*or similar*)</span>\\\n",
    "X_train.shape (105, 4)\\\n",
    "X_test.shape (45, 4)\\\n",
    "y_train.shape (105,)\\\n",
    "y_test.shape (45,)\\\n",
    "y_labels_name:  ['Iris-setosa' 'Iris-versicolor' 'Iris-virginica'] \\\n",
    "y_labels_new:  [0, 1, 2]\n",
    "\n",
    "SepalLengthCm  SepalWidthCm  PetalLengthCm  PetalWidthCm\\\n",
    "0            6.4           2.8            5.6           2.2\\\n",
    "1            6.7           3.3            5.7           2.1\\\n",
    "2            4.6           3.4            1.4           0.3\\\n",
    "3            5.1           3.8            1.5           0.3\\\n",
    "4            5.0           2.3            3.3           1.0\\\n",
    "   Species\\\n",
    "0        2\\\n",
    "1        2\\\n",
    "2        0\\\n",
    "3        0\\\n",
    "4        1"
   ]
  },
  {
   "cell_type": "markdown",
   "metadata": {},
   "source": [
    "## Exercise 1.3 (5 points)\n",
    "\n",
    "Train your classification model using the `gradient_descent` function already provided.\n",
    "You might also play around with the gradient descent function to see if you can speed it up!"
   ]
  },
  {
   "cell_type": "code",
   "execution_count": 9,
   "metadata": {
    "deletable": false,
    "nbgrader": {
     "cell_type": "code",
     "checksum": "ad783130ff0cfdf82d485d403ec273e9",
     "grade": false,
     "grade_id": "cell-45133326ee8336fd",
     "locked": false,
     "schema_version": 3,
     "solution": true,
     "task": false
    }
   },
   "outputs": [],
   "source": [
    "# num_class is the number of unique labels\n",
    "num_class = len(y_labels_name)\n",
    "\n",
    "if (X_train.shape[1] == X.shape[1]): \n",
    "    X_train.insert(0, \"intercept\", 1)\n",
    "\n",
    "# Reset m and n for training data\n",
    "r, c = X_train.shape\n",
    "\n",
    "# Initialize theta for each class\n",
    "theta_initial = np.ones((num_class, c))\n",
    "\n",
    "alpha = .05\n",
    "iterations = 200\n",
    "\n",
    "# Logistic regression\n",
    "theta = gradient_descent(X_train, y_train, theta_initial, alpha, iterations, num_class)"
   ]
  },
  {
   "cell_type": "code",
   "execution_count": 10,
   "metadata": {
    "deletable": false,
    "editable": false,
    "nbgrader": {
     "cell_type": "code",
     "checksum": "292c4d2939100e64e43e00eaa1103c99",
     "grade": true,
     "grade_id": "cell-4df1fd593dc59103",
     "locked": true,
     "points": 5,
     "schema_version": 3,
     "solution": false,
     "task": false
    }
   },
   "outputs": [
    {
     "name": "stdout",
     "output_type": "stream",
     "text": [
      "[[ 1.16659403  1.33176587  1.83882226 -0.20558895  0.44708553]\n",
      " [ 1.05751169  1.17014258  0.70188581  1.20807162  0.84826996]\n",
      " [ 0.77589428  0.49809155  0.45929194  1.99751733  1.70464451]]\n",
      "(3, 5)\n",
      "success!\n"
     ]
    }
   ],
   "source": [
    "print(theta)\n",
    "print(theta.shape)\n",
    "\n",
    "# Test function: Do not remove\n",
    "assert theta.shape == (3, 5), 'Size of theta is incorrect'\n",
    "\n",
    "print(\"success!\")\n",
    "# End Test function"
   ]
  },
  {
   "cell_type": "markdown",
   "metadata": {},
   "source": [
    "**Expected result**: <span style=\"color:blue\">(*or similar*)</span>\\\n",
    "[[ 1.17632192  1.32360047  1.83204165 -0.20224445  0.44039155]\\\n",
    " [ 1.10140069  1.13537321  0.74833178  1.21907866  0.82567377]\\\n",
    " [ 0.72227738  0.54102632  0.41962657  1.98316579  1.73393467]]\\\n",
    "\\\n",
    "(3, 5)"
   ]
  },
  {
   "cell_type": "markdown",
   "metadata": {
    "deletable": false,
    "editable": false,
    "nbgrader": {
     "cell_type": "markdown",
     "checksum": "77824201280c79436622012608de3e2f",
     "grade": false,
     "grade_id": "cell-1fb529e9485db8ed",
     "locked": true,
     "schema_version": 3,
     "solution": false,
     "task": false
    }
   },
   "source": [
    "## Exercise 1.4 (5 points)\n",
    "\n",
    "Let's get your model to make predictions on the test data."
   ]
  },
  {
   "cell_type": "code",
   "execution_count": 11,
   "metadata": {
    "deletable": false,
    "nbgrader": {
     "cell_type": "code",
     "checksum": "348bc255367b5cbda2244eac6b1e9af7",
     "grade": false,
     "grade_id": "cell-ca9bee3cf3b6f596",
     "locked": false,
     "schema_version": 3,
     "solution": true,
     "task": false
    }
   },
   "outputs": [],
   "source": [
    "# Prediction on test data \n",
    "\n",
    "if (X_test.shape[1] == X.shape[1]): \n",
    "    X_test.insert(0, \"intercept\", 1)\n",
    "\n",
    "# Reset m and n for test data\n",
    "r,c = X_test.shape\n",
    "\n",
    "y_pred = []\n",
    "for index,row in X_test.iterrows(): # get a row of X_test data\n",
    "    # calculate y_hat using hypothesis function\n",
    "    y_hat = h(row, theta, num_class)\n",
    "    # find the index (integer value) of maximum value in y_hat and input back to prediction\n",
    "    result = int(np.where(y_hat == np.amax(y_hat))[0])\n",
    "    prediction = result\n",
    "\n",
    "    # collect the result\n",
    "    y_pred.append(prediction)"
   ]
  },
  {
   "cell_type": "code",
   "execution_count": 12,
   "metadata": {
    "deletable": false,
    "editable": false,
    "nbgrader": {
     "cell_type": "code",
     "checksum": "d842201bd3b0bc078ed88a2ad3be3ba5",
     "grade": true,
     "grade_id": "cell-eb837dfbea00f88e",
     "locked": true,
     "points": 5,
     "schema_version": 3,
     "solution": false,
     "task": false
    }
   },
   "outputs": [
    {
     "name": "stdout",
     "output_type": "stream",
     "text": [
      "45\n",
      "[0, 1, 0, 1, 1, 1, 2]\n",
      "<class 'int'>\n",
      "success!\n"
     ]
    }
   ],
   "source": [
    "print(len(y_pred))\n",
    "print(y_pred[:7])\n",
    "print(type(y_pred[0]))\n",
    "\n",
    "# Test function: Do not remove\n",
    "assert len(y_pred) == 45, 'Size of y_pred is incorrect'\n",
    "assert isinstance(y_pred[0], int) and isinstance(y_pred[15], int) and isinstance(y_pred[17], int), 'prediction type is incorrect'\n",
    "assert max(y_pred) < 3 and min(y_pred) >= 0, 'wrong index of y_pred'\n",
    "\n",
    "print(\"success!\")\n",
    "# End Test function"
   ]
  },
  {
   "cell_type": "markdown",
   "metadata": {
    "deletable": false,
    "editable": false,
    "nbgrader": {
     "cell_type": "markdown",
     "checksum": "f16868d1301850a213dcca08f77f9d99",
     "grade": false,
     "grade_id": "cell-e6c4ecd254dffa16",
     "locked": true,
     "schema_version": 3,
     "solution": false,
     "task": false
    }
   },
   "source": [
    "**Expected result**: <span style=\"color:blue\">(*or similar*)</span>\\\n",
    "45 \\\n",
    "[2, 0, 2, 0, 0, 0, 2] \\\n",
    "<class 'int'>"
   ]
  },
  {
   "cell_type": "markdown",
   "metadata": {},
   "source": [
    "## Exercise 1.5 (5 points)\n",
    "\n",
    "Estimate accuracy of model on test data\n",
    "\n",
    "$$\\text{accuracy} = \\frac{\\text{number of correct test predictions}}{m_{\\text{test}}}$$"
   ]
  },
  {
   "cell_type": "code",
   "execution_count": 13,
   "metadata": {
    "deletable": false,
    "nbgrader": {
     "cell_type": "code",
     "checksum": "5e98a0ca8a59bcc91e4e98134994357c",
     "grade": false,
     "grade_id": "cell-e55c1db91fb8e2c2",
     "locked": false,
     "schema_version": 3,
     "solution": true,
     "task": false
    }
   },
   "outputs": [],
   "source": [
    "def calc_accuracy(y_test, y_pred):\n",
    "    m = len(y_test)\n",
    "    y_test = np.array(y_test)\n",
    "    count = 0\n",
    "    for i in range(len(y_test)):\n",
    "        if y_test[i] == y_pred[i]:\n",
    "            count = count + 1\n",
    "\n",
    "    accuracy = count/m\n",
    "    return accuracy"
   ]
  },
  {
   "cell_type": "code",
   "execution_count": 14,
   "metadata": {
    "deletable": false,
    "editable": false,
    "nbgrader": {
     "cell_type": "code",
     "checksum": "9e60eaa0a604ec38ec10b318709f16d2",
     "grade": true,
     "grade_id": "cell-3c242c8ceb36bdde",
     "locked": true,
     "points": 5,
     "schema_version": 3,
     "solution": false,
     "task": false
    }
   },
   "outputs": [
    {
     "name": "stdout",
     "output_type": "stream",
     "text": [
      "Accuracy: 0.9778\n",
      "success!\n"
     ]
    }
   ],
   "source": [
    "accuracy = calc_accuracy(y_test, y_pred)\n",
    "print('Accuracy: %.4f' % accuracy)\n",
    "\n",
    "# Test function: Do not remove\n",
    "assert isinstance(accuracy, float), 'accuracy should be floating point'\n",
    "assert accuracy >= 0.8, 'Did you train the data?'\n",
    "\n",
    "print(\"success!\")\n",
    "# End Test function"
   ]
  },
  {
   "cell_type": "markdown",
   "metadata": {
    "deletable": false,
    "editable": false,
    "nbgrader": {
     "cell_type": "markdown",
     "checksum": "bb73f150e4d32690d39ea62b36681d0e",
     "grade": false,
     "grade_id": "cell-c6ce114f4e28eb00",
     "locked": true,
     "schema_version": 3,
     "solution": false,
     "task": false
    }
   },
   "source": [
    "**Expected result**: should be at least 0.8!"
   ]
  },
  {
   "cell_type": "markdown",
   "metadata": {
    "deletable": false,
    "editable": false,
    "nbgrader": {
     "cell_type": "markdown",
     "checksum": "409feaa976ebc15fa25dd29cb7f225de",
     "grade": false,
     "grade_id": "cell-766aea2be684caa1",
     "locked": true,
     "schema_version": 3,
     "solution": false,
     "task": false
    }
   },
   "source": [
    "## On your own in lab\n",
    "\n",
    "We will do the following in lab:\n",
    "1. Write a function to obtain the cost for particular $\\mathtt{X}$, $\\mathbf{y}$, and $\\theta$.\n",
    "2. Plot the training set and test cost as training goes on and find the best value for the number of iterations and learning rate.\n",
    "3. Make 2D scatter plots showing the predicted and actual class of each item in the training set, plotting two features at a time.\n",
    "   Comment on the cause of the errors you observe. If you obtain perfect test set accuracy, re-run the train/test split\n",
    "   and rerun the optimization until you observe some mistaken predictions on the test set.\n"
   ]
  },
  {
   "cell_type": "markdown",
   "metadata": {
    "deletable": false,
    "editable": false,
    "nbgrader": {
     "cell_type": "markdown",
     "checksum": "ea7c241fded47855150e595f8487230e",
     "grade": false,
     "grade_id": "cell-24e9ed62d68b8af8",
     "locked": true,
     "schema_version": 3,
     "solution": false,
     "task": false
    }
   },
   "source": [
    "## Exercise 2.1 (15 points)\n",
    "\n",
    "1. Write a function to obtain the cost for particular $\\mathtt{X}$, $\\mathbf{y}$, and $\\theta$.\n",
    "   Name your function `my_J()` and implement\n",
    "\n",
    "$$ J_j = -\\delta(y, j)\\log{\\phi_j} $$\n"
   ]
  },
  {
   "cell_type": "code",
   "execution_count": 15,
   "metadata": {
    "deletable": false,
    "nbgrader": {
     "cell_type": "code",
     "checksum": "7bae968c2f17079d9772c6a7fc4dabde",
     "grade": false,
     "grade_id": "cell-09504f5f2f8c3576",
     "locked": false,
     "schema_version": 3,
     "solution": true,
     "task": false
    }
   },
   "outputs": [],
   "source": [
    "def my_J(theta, X, y, j, num_class):\n",
    "    cost = -(indicator(y,j) * np.log(phi(j, theta, X, num_class)))\n",
    "    return cost"
   ]
  },
  {
   "cell_type": "code",
   "execution_count": 16,
   "metadata": {
    "deletable": false,
    "editable": false,
    "nbgrader": {
     "cell_type": "code",
     "checksum": "c99e4d6e2e754a96be6e7d37d9bb7149",
     "grade": true,
     "grade_id": "cell-fbcbb4e3e0175f5b",
     "locked": true,
     "points": 5,
     "schema_version": 3,
     "solution": false,
     "task": false
    }
   },
   "outputs": [
    {
     "name": "stdout",
     "output_type": "stream",
     "text": [
      "success!\n"
     ]
    }
   ],
   "source": [
    "# Test function: Do not remove\n",
    "m, n = X_train.shape\n",
    "test_theta = np.ones((3, n))  \n",
    "cost = my_J(test_theta, X_train.loc[10], y_train[10], 0, 3)\n",
    "assert isinstance(cost, float), 'cost should be floating point'\n",
    "\n",
    "print(\"success!\")\n",
    "# End Test function"
   ]
  },
  {
   "cell_type": "markdown",
   "metadata": {
    "deletable": false,
    "editable": false,
    "nbgrader": {
     "cell_type": "markdown",
     "checksum": "5c398c965785889ee0a06aeb84a0b80d",
     "grade": false,
     "grade_id": "cell-34c143689212aef1",
     "locked": true,
     "schema_version": 3,
     "solution": false,
     "task": false
    }
   },
   "source": [
    "2. Implement <code>my_grad_cost</code> using your <code>my_J</code> function"
   ]
  },
  {
   "cell_type": "code",
   "execution_count": 17,
   "metadata": {
    "deletable": false,
    "nbgrader": {
     "cell_type": "code",
     "checksum": "cd8bd33416294c869c6e5e6799e706af",
     "grade": false,
     "grade_id": "cell-4ceb8af01bd22e41",
     "locked": false,
     "schema_version": 3,
     "solution": true,
     "task": false
    }
   },
   "outputs": [],
   "source": [
    "def my_grad_cost(X, y, j, theta, num_class):\n",
    "    m, n = X.shape\n",
    "    cost = 0\n",
    "    sum = np.array([0 for i in range(0,n)])\n",
    "    for i in range(0, m):\n",
    "        p = indicator(y[i], j) - phi(j, theta, X.loc[i], num_class)\n",
    "        c = my_J(theta, X.iloc[i], y.iloc[i], j, num_class)\n",
    "        sum = sum + (X.loc[i] * p)\n",
    "        cost = cost + c\n",
    "    grad = -sum / m\n",
    "    return grad, cost"
   ]
  },
  {
   "cell_type": "code",
   "execution_count": 18,
   "metadata": {
    "deletable": false,
    "editable": false,
    "nbgrader": {
     "cell_type": "code",
     "checksum": "561dddd2c0890a5871cd9a93ba403271",
     "grade": true,
     "grade_id": "cell-0c59178b69fc0e79",
     "locked": true,
     "points": 5,
     "schema_version": 3,
     "solution": false,
     "task": false
    }
   },
   "outputs": [
    {
     "name": "stdout",
     "output_type": "stream",
     "text": [
      "intercept       -0.038095\n",
      "SepalLengthCm    0.053333\n",
      "SepalWidthCm    -0.253016\n",
      "PetalLengthCm    0.657460\n",
      "PetalWidthCm     0.288571\n",
      "dtype: float64\n",
      "42.84587925805627\n",
      "success!\n"
     ]
    }
   ],
   "source": [
    "# Test function: Do not remove\n",
    "m, n = X_train.shape\n",
    "test_theta = np.ones((3, n))  \n",
    "grad, cost = my_grad_cost(X_train, y_train, 0, test_theta, num_class)\n",
    "print(grad)\n",
    "print(cost)\n",
    "assert isinstance(cost, float), 'cost should be floating point'\n",
    "assert isinstance(grad['intercept'], float) and \\\n",
    "        isinstance(grad['SepalLengthCm'], float) and \\\n",
    "        isinstance(grad['SepalWidthCm'], float) and \\\n",
    "        isinstance(grad['PetalLengthCm'], float) and \\\n",
    "        isinstance(grad['PetalWidthCm'], float) , 'grad should be floating point'\n",
    "print(\"success!\")\n",
    "# End Test function"
   ]
  },
  {
   "cell_type": "markdown",
   "metadata": {
    "deletable": false,
    "editable": false,
    "nbgrader": {
     "cell_type": "markdown",
     "checksum": "3a7669c774b0a3bf8c73ff1a0434fe62",
     "grade": false,
     "grade_id": "cell-97b876dfa85ff5bc",
     "locked": true,
     "schema_version": 3,
     "solution": false,
     "task": false
    }
   },
   "source": [
    "**Expect result**: <span style=\"color:blue\">(*or similar*)</span>\\\n",
    "intercept        0.009524\\\n",
    "SepalLengthCm    0.316825\\\n",
    "SepalWidthCm    -0.091429\\\n",
    "PetalLengthCm    0.780000\\\n",
    "PetalWidthCm     0.329524\\\n",
    "dtype: float64\\\n",
    "37.352817814715735"
   ]
  },
  {
   "cell_type": "markdown",
   "metadata": {
    "deletable": false,
    "editable": false,
    "nbgrader": {
     "cell_type": "markdown",
     "checksum": "3d80cb7d40135eec5790ae5a8f5af7cf",
     "grade": false,
     "grade_id": "cell-32f708e7578beca7",
     "locked": true,
     "schema_version": 3,
     "solution": false,
     "task": false
    }
   },
   "source": [
    "3. Implement <code>my_gradient_descent</code> using your <code>my_grad_cost</code> function"
   ]
  },
  {
   "cell_type": "code",
   "execution_count": 19,
   "metadata": {
    "deletable": false,
    "nbgrader": {
     "cell_type": "code",
     "checksum": "8b2a20ca1f35b23f2f6226e644a123a0",
     "grade": false,
     "grade_id": "cell-68841cb78e91028a",
     "locked": false,
     "schema_version": 3,
     "solution": true,
     "task": false
    }
   },
   "outputs": [],
   "source": [
    "def my_gradient_descent(X, y, theta, alpha, iters, num_class):        \n",
    "    cost_arr = []\n",
    "    n = X.shape[1]\n",
    "    for iter in range(iters):\n",
    "        cost = 0\n",
    "        dtheta = np.zeros((num_class, n))\n",
    "        for j in range(0, num_class):\n",
    "            dtheta[j,:] , c = my_grad_cost(X, y, j, theta, num_class)\n",
    "            cost = cost + c\n",
    "        cost_arr.append(cost)\n",
    "        theta = theta - alpha * dtheta\n",
    "    return theta, cost_arr"
   ]
  },
  {
   "cell_type": "code",
   "execution_count": 20,
   "metadata": {
    "deletable": false,
    "editable": false,
    "nbgrader": {
     "cell_type": "code",
     "checksum": "5a352fdcab8656502c0f241b436d3966",
     "grade": true,
     "grade_id": "cell-8b7f6daed2ecf043",
     "locked": true,
     "points": 5,
     "schema_version": 3,
     "solution": false,
     "task": false
    }
   },
   "outputs": [
    {
     "name": "stdout",
     "output_type": "stream",
     "text": [
      "[[1.00019766 0.99977788 1.00128591 0.99674726 0.99856896]\n",
      " [0.9999057  0.99971921 0.99923491 1.00068601 1.00018615]\n",
      " [0.99989664 1.00050291 0.99947918 1.00256673 1.00124488]]\n",
      "[115.35429031015153, 115.25082015978299, 115.14836748060272, 115.04689667861354, 114.94637352906976]\n",
      "success!\n"
     ]
    }
   ],
   "source": [
    "# Test function: Do not remove\n",
    "m, n = X_train.shape\n",
    "test_theta = np.ones((3, n))  \n",
    "theta, cost = my_gradient_descent(X_train, y_train, theta_initial, 0.001, 5, 3)\n",
    "print(theta)\n",
    "print(cost)\n",
    "print(\"success!\")\n",
    "# End Test function"
   ]
  },
  {
   "cell_type": "markdown",
   "metadata": {
    "deletable": false,
    "editable": false,
    "nbgrader": {
     "cell_type": "markdown",
     "checksum": "93a06956cbd8e8cf4b2f7b32643cd4b8",
     "grade": false,
     "grade_id": "cell-44224271d398a147",
     "locked": true,
     "schema_version": 3,
     "solution": false,
     "task": false
    }
   },
   "source": [
    "**Expected result**: <span style=\"color:blue\">(*or similar*)</span>\\\n",
    "[[1.00001186 0.99618853 1.00183642 0.9889817  0.99528923]\\\n",
    " [1.00009697 1.0011823  0.99883395 1.00316763 1.00083055]\\\n",
    " [0.99987915 1.00255606 0.99929351 1.00779768 1.00386218]]\\\n",
    "[114.00099216453735, 113.89036233839263, 113.78163144339288, 113.67472269747496, 113.56956268162737]\\\n",
    "37.352817814715735"
   ]
  },
  {
   "cell_type": "markdown",
   "metadata": {
    "deletable": false,
    "editable": false,
    "nbgrader": {
     "cell_type": "markdown",
     "checksum": "ba2df6557c59fe3a224ab91188067727",
     "grade": false,
     "grade_id": "cell-8c6718d263bf7786",
     "locked": true,
     "schema_version": 3,
     "solution": false,
     "task": false
    }
   },
   "source": [
    "## Exercise 2.2 (20 points)\n",
    "\n",
    "4. Plot the training set and test cost as training goes on and find the best value for the number of iterations and learning rate.\n",
    "5. Make 2D scatter plots showing the predicted and actual class of each item in the training set, plotting two features at a time.\n",
    "   Comment on the cause of the errors you observe. If you obtain perfect test set accuracy, re-run the train/test split\n",
    "   and rerun the optimization until you observe some mistaken predictions on the test set."
   ]
  },
  {
   "cell_type": "code",
   "execution_count": 21,
   "metadata": {},
   "outputs": [],
   "source": [
    "import matplotlib.pyplot as plt"
   ]
  },
  {
   "cell_type": "code",
   "execution_count": 22,
   "metadata": {
    "deletable": false,
    "nbgrader": {
     "cell_type": "code",
     "checksum": "b4aa679efedc456225c0f84d5646aac6",
     "grade": true,
     "grade_id": "cell-5d97fd557db7438e",
     "locked": false,
     "points": 20,
     "schema_version": 3,
     "solution": true,
     "task": false
    }
   },
   "outputs": [
    {
     "data": {
      "image/png": "[encoded data removed]",
      "text/plain": [
       "<Figure size 432x288 with 1 Axes>"
      ]
     },
     "metadata": {
      "needs_background": "light"
     },
     "output_type": "display_data"
    }
   ],
   "source": [
    "theta_arr = []\n",
    "cost_arr = []\n",
    "accuracy_arr = []\n",
    "\n",
    "# design your own learning rate and num iterations\n",
    "alpha_arr = np.array([0.008, 0.08, 0.06, 0.01])\n",
    "iterations_arr = np.array([300, 450, 500, 600])\n",
    "\n",
    "def calc_y_pred(X, theta):\n",
    "    y_pred = []\n",
    "    \n",
    "    for index,row in X.iterrows(): # get a row of X_test data\n",
    "        # calculate y_hat using hypothesis function\n",
    "        y_hat = h(row, theta, num_class)\n",
    "        # find the index (integer value) of maximum value in y_hat and input back to prediction\n",
    "        result = int(np.where(y_hat == np.amax(y_hat))[0])\n",
    "        prediction = result\n",
    "\n",
    "        # collect the result\n",
    "        y_pred.append(prediction)\n",
    "    return y_pred\n",
    "\n",
    "for i in range(4):\n",
    "    theta, cost = my_gradient_descent(X_train, y_train, theta_initial, alpha_arr[i], iterations_arr[i], num_class)\n",
    "    theta_arr.append(theta)\n",
    "    cost_arr.append(cost)\n",
    "    y_pred = calc_y_pred(X_test, theta)\n",
    "    accuracy = calc_accuracy(y_test, y_pred)\n",
    "    accuracy_arr.append(accuracy)\n",
    "    \n",
    "plt.plot(cost_arr[0], label='alpha:0.008, acc:'+ str(round(accuracy_arr[0],2)))\n",
    "plt.plot(cost_arr[1], label='alpha:0.08, acc:'+ str(round(accuracy_arr[1],2)))\n",
    "plt.plot(cost_arr[2], label='alpha:0.06, acc:'+ str(round(accuracy_arr[2],2)))\n",
    "plt.plot(cost_arr[3], label='alpha:0.01, acc:'+ str(round(accuracy_arr[3],2)))\n",
    "plt.xlabel(\"Iteration\")\n",
    "plt.ylabel(\"cost\")\n",
    "plt.legend()\n",
    "plt.show()\n",
    "    \n",
    "    \n",
    "    \n"
   ]
  },
  {
   "attachments": {
    "lab4-02.png": {
     "image/png": "[encoded data removed]"
    }
   },
   "cell_type": "markdown",
   "metadata": {
    "deletable": false,
    "editable": false,
    "nbgrader": {
     "cell_type": "markdown",
     "checksum": "0c15b26d416d2baf11b8a9f0695f9ff8",
     "grade": false,
     "grade_id": "cell-708bd0d431aeb436",
     "locked": true,
     "schema_version": 3,
     "solution": false,
     "task": false
    }
   },
   "source": [
    "**Expected result**: <span style=\"color:blue\">(*Yours doesn't have to be the same!*)</span>\n",
    "\n",
    "![lab4-02.png](attachment:lab4-02.png)"
   ]
  },
  {
   "cell_type": "code",
   "execution_count": 23,
   "metadata": {
    "scrolled": true
   },
   "outputs": [
    {
     "name": "stdout",
     "output_type": "stream",
     "text": [
      "Accuracy is => 0.9523809523809523\n",
      "(105, 5)\n"
     ]
    },
    {
     "data": {
      "image/png": "[encoded data removed]",
      "text/plain": [
       "<Figure size 432x288 with 1 Axes>"
      ]
     },
     "metadata": {
      "needs_background": "light"
     },
     "output_type": "display_data"
    }
   ],
   "source": [
    "y_pred = calc_y_pred(X_train, theta)\n",
    "accuracy = calc_accuracy(y_train, y_pred)\n",
    "print(\"Accuracy is =>\", accuracy)\n",
    "print(X_train.shape)\n",
    "m, n = X_train.shape\n",
    "\n",
    "#Split the X_train into classes based on the y_test\n",
    "X_train_idx0 = []\n",
    "X_train_idx1 = []\n",
    "X_train_idx2 = []\n",
    "\n",
    "X_train_p_idx0 = []\n",
    "X_train_p_idx1 = []\n",
    "X_train_p_idx2 = []\n",
    "\n",
    "error_index = []\n",
    "\n",
    "for i in range(len(y_train)):\n",
    "    if y_train[i] == 0:\n",
    "        X_train_idx0.append(i)\n",
    "    elif y_train[i] == 1:\n",
    "        X_train_idx1.append(i)\n",
    "    else:\n",
    "        X_train_idx2.append(i)\n",
    "\n",
    "X_train_0 = X_train.iloc[X_train_idx0, :]\n",
    "X_train_1 = X_train.iloc[X_train_idx1, :]\n",
    "X_train_2 = X_train.iloc[X_train_idx2, :]\n",
    "\n",
    "\n",
    "for i in range(len(y_pred)):\n",
    "    if y_pred[i] == 0:\n",
    "        X_train_p_idx0.append(i)\n",
    "    elif y_pred[i] == 1:\n",
    "        X_train_p_idx1.append(i)\n",
    "    else:\n",
    "        X_train_p_idx2.append(i)\n",
    "\n",
    "\n",
    "X_train_p_0 = X_train.iloc[X_train_p_idx0, :]\n",
    "X_train_p_1 = X_train.iloc[X_train_p_idx1, :]\n",
    "X_train_p_2 = X_train.iloc[X_train_p_idx2, :]\n",
    "\n",
    "\n",
    "plt.xlabel('SepalLengthCm')\n",
    "plt.ylabel('SepalWidthCm')\n",
    "plt.scatter(X_train_0['SepalLengthCm'],X_train_0['SepalWidthCm'], s=50, c='b', marker='o', label='Actual')\n",
    "plt.scatter(X_train_1['SepalLengthCm'],X_train_1['SepalWidthCm'], s=50, c='g', marker='o', label='Actual')\n",
    "plt.scatter(X_train_2['SepalLengthCm'],X_train_2['SepalWidthCm'], s=50, c='r', marker='o', label='Actual')\n",
    "\n",
    "plt.scatter(X_train_p_0['SepalLengthCm'],X_train_p_0['SepalWidthCm'], s=50, c='b', marker='.', label='Predicted')\n",
    "plt.scatter(X_train_p_1['SepalLengthCm'],X_train_p_1['SepalWidthCm'], s=50, c='g', marker='.', label='Predicted')\n",
    "plt.scatter(X_train_p_2['SepalLengthCm'],X_train_p_2['SepalWidthCm'], s=50, c='r', marker='.', label='Predicted')\n",
    "\n",
    "plt.legend()\n",
    "plt.show()\n",
    "\n",
    "\n",
    "# print(X_train_idx0)\n",
    "# print(X_train_p_idx0)\n",
    "\n",
    "# print(X_train_idx1)\n",
    "# print(X_train_p_idx1)\n",
    "\n",
    "# print(X_train_idx2)\n",
    "# print(X_train_p_idx2)\n",
    "        \n",
    "\n"
   ]
  },
  {
   "cell_type": "code",
   "execution_count": 24,
   "metadata": {
    "scrolled": true
   },
   "outputs": [
    {
     "data": {
      "image/png": "[encoded data removed]",
      "text/plain": [
       "<Figure size 432x288 with 1 Axes>"
      ]
     },
     "metadata": {
      "needs_background": "light"
     },
     "output_type": "display_data"
    }
   ],
   "source": [
    "plt.xlabel('PetalLengthCm')\n",
    "plt.ylabel('PetalWidthCm')\n",
    "plt.scatter(X_train_0['PetalLengthCm'],X_train_0['PetalWidthCm'], s=50, c='b', marker='o', label='Actual')\n",
    "plt.scatter(X_train_1['PetalLengthCm'],X_train_1['PetalWidthCm'], s=50, c='g', marker='o', label='Actual')\n",
    "plt.scatter(X_train_2['PetalLengthCm'],X_train_2['PetalWidthCm'], s=50, c='r', marker='o', label='Actual')\n",
    "\n",
    "plt.scatter(X_train_p_0['PetalLengthCm'],X_train_p_0['PetalWidthCm'], s=50, c='b', marker='.', label='Predicted')\n",
    "plt.scatter(X_train_p_1['PetalLengthCm'],X_train_p_1['PetalWidthCm'], s=50, c='g', marker='.', label='Predicted')\n",
    "plt.scatter(X_train_p_2['PetalLengthCm'],X_train_p_2['PetalWidthCm'], s=50, c='r', marker='.', label='Predicted')\n",
    "plt.legend()\n",
    "plt.show()"
   ]
  },
  {
   "cell_type": "code",
   "execution_count": 25,
   "metadata": {},
   "outputs": [
    {
     "data": {
      "image/png": "[encoded data removed]",
      "text/plain": [
       "<Figure size 432x288 with 1 Axes>"
      ]
     },
     "metadata": {
      "needs_background": "light"
     },
     "output_type": "display_data"
    }
   ],
   "source": [
    "plt.xlabel('PetalLengthCm')\n",
    "plt.ylabel('SepalWidthCm')\n",
    "plt.scatter(X_train_0['PetalLengthCm'],X_train_0['SepalWidthCm'], s=50, c='b', marker='o', label='Actual')\n",
    "plt.scatter(X_train_1['PetalLengthCm'],X_train_1['SepalWidthCm'], s=50, c='g', marker='o', label='Actual')\n",
    "plt.scatter(X_train_2['PetalLengthCm'],X_train_2['SepalWidthCm'], s=50, c='r', marker='o', label='Actual')\n",
    "\n",
    "plt.scatter(X_train_p_0['PetalLengthCm'],X_train_p_0['SepalWidthCm'], s=50, c='b', marker='.', label='Predicted')\n",
    "plt.scatter(X_train_p_1['PetalLengthCm'],X_train_p_1['SepalWidthCm'], s=50, c='g', marker='.', label='Predicted')\n",
    "plt.scatter(X_train_p_2['PetalLengthCm'],X_train_p_2['SepalWidthCm'], s=50, c='r', marker='.', label='Predicted')\n",
    "plt.legend()\n",
    "plt.show()"
   ]
  },
  {
   "cell_type": "code",
   "execution_count": 26,
   "metadata": {
    "scrolled": true
   },
   "outputs": [
    {
     "data": {
      "image/png": "[encoded data removed]",
      "text/plain": [
       "<Figure size 432x288 with 1 Axes>"
      ]
     },
     "metadata": {
      "needs_background": "light"
     },
     "output_type": "display_data"
    }
   ],
   "source": [
    "plt.xlabel('SepalLengthCm')\n",
    "plt.ylabel('PetalWidthCm')\n",
    "plt.scatter(X_train_0['SepalLengthCm'],X_train_0['PetalWidthCm'], s=50, c='b', marker='o', label='Actual')\n",
    "plt.scatter(X_train_1['SepalLengthCm'],X_train_1['PetalWidthCm'], s=50, c='g', marker='o', label='Actual')\n",
    "plt.scatter(X_train_2['SepalLengthCm'],X_train_2['PetalWidthCm'], s=50, c='r', marker='o', label='Actual')\n",
    "\n",
    "plt.scatter(X_train_p_0['SepalLengthCm'],X_train_p_0['PetalWidthCm'], s=50, c='b', marker='.', label='Predicted')\n",
    "plt.scatter(X_train_p_1['SepalLengthCm'],X_train_p_1['PetalWidthCm'], s=50, c='g', marker='.', label='Predicted')\n",
    "plt.scatter(X_train_p_2['SepalLengthCm'],X_train_p_2['PetalWidthCm'], s=50, c='r', marker='.', label='Predicted')\n",
    "plt.legend()\n",
    "plt.show()"
   ]
  },
  {
   "cell_type": "markdown",
   "metadata": {},
   "source": [
    "From the scatter plots of actual class and predicted class we can see the overlap of some plots. This indicates that the model has predicted the wrong class for the given X values.\n",
    "\n",
    "In the above plots, we can see the small red dots(predicted) are overlapping the big green dots(actual) which means that the values were predicted wrong (i.e it was predicted to be in the wrong class)"
   ]
  },
  {
   "cell_type": "markdown",
   "metadata": {
    "deletable": false,
    "editable": false,
    "nbgrader": {
     "cell_type": "markdown",
     "checksum": "506c09bf3e11695e14800f5260fa41d1",
     "grade": false,
     "grade_id": "cell-11e3be2a06e07677",
     "locked": true,
     "points": 40,
     "schema_version": 3,
     "solution": false,
     "task": true
    }
   },
   "source": [
    "## On your own to take home\n",
    "\n",
    "We see that the Iris dataset is pretty easy. Depending on the train/test split, we get 97-100% accuracy.\n",
    "\n",
    "Find a more interesting multi-class classification problem on Kaggle (Tell the reference), clean the dataset to obtain numerical input features without missing values,\n",
    "split the data into test and train, and experiment with multinomial logistic regression.\n",
    "\n",
    "Write a brief report on your experiments and results. As always, turn in a Jupyter notebook by email\n",
    "to the instructor and TA.\n"
   ]
  },
  {
   "cell_type": "markdown",
   "metadata": {},
   "source": [
    "Discussion :\n",
    "\n",
    "The data set used for this exercise is the Star dataset to predict star types which has been taken from Kaggle. The datset consists of 240 rows with 6 classes - \n",
    "\n",
    "Brown Dwarf -> Star Type = 0\n",
    "Red Dwarf -> Star Type = 1\n",
    "White Dwarf-> Star Type = 2\n",
    "Main Sequence -> Star Type = 3\n",
    "Supergiant -> Star Type = 4\n",
    "Hypergiant -> Star Type = 5\n",
    "\n",
    "The dataset consists of several features of the star like - Temperature, Luminosity, Radius, Absolute magnitude, Star color, Spectral Class"
   ]
  },
  {
   "cell_type": "code",
   "execution_count": 27,
   "metadata": {},
   "outputs": [
    {
     "name": "stdout",
     "output_type": "stream",
     "text": [
      "   Temperature (K)  Luminosity(L/Lo)  Radius(R/Ro)  Absolute magnitude(Mv)  \\\n",
      "0             3068          0.002400        0.1700                   16.12   \n",
      "1             3042          0.000500        0.1542                   16.60   \n",
      "2             2600          0.000300        0.1020                   18.70   \n",
      "3             2800          0.000200        0.1600                   16.65   \n",
      "4             1939          0.000138        0.1030                   20.06   \n",
      "\n",
      "   Star type Star color Spectral Class  \n",
      "0          0        Red              M  \n",
      "1          0        Red              M  \n",
      "2          0        Red              M  \n",
      "3          0        Red              M  \n",
      "4          0        Red              M  \n",
      "   Temperature (K)  Luminosity(L/Lo)  Radius(R/Ro)  Absolute magnitude(Mv)  \\\n",
      "0             3068          0.002400        0.1700                   16.12   \n",
      "1             3042          0.000500        0.1542                   16.60   \n",
      "2             2600          0.000300        0.1020                   18.70   \n",
      "3             2800          0.000200        0.1600                   16.65   \n",
      "4             1939          0.000138        0.1030                   20.06   \n",
      "\n",
      "  Star color Spectral Class  \n",
      "0        Red              M  \n",
      "1        Red              M  \n",
      "2        Red              M  \n",
      "3        Red              M  \n",
      "4        Red              M  \n",
      "0    0\n",
      "1    0\n",
      "2    0\n",
      "3    0\n",
      "4    0\n",
      "Name: Star type, dtype: int64\n"
     ]
    }
   ],
   "source": [
    "# Extracting the X and y values from the dataset using the existing function load_data\n",
    "\n",
    "X, y= load_data('star-prediction.csv', None, 'Star type', True)\n",
    "print(X.head())\n",
    "print(y.head())"
   ]
  },
  {
   "cell_type": "code",
   "execution_count": 28,
   "metadata": {},
   "outputs": [
    {
     "name": "stdout",
     "output_type": "stream",
     "text": [
      "['Red' 'Blue white' 'White' 'Yellowish white' 'Pale yellow orange' 'Blue'\n",
      " 'Blue-white' 'Whitish' 'Yellow-white' 'Orange' 'White-yellow' 'Yellowish'\n",
      " 'Orange-red']\n"
     ]
    }
   ],
   "source": [
    "#Cleaning the dataset\n",
    "\n",
    "#Converting strings values of Star color to numerical \n",
    "X.loc[:,'Star color'] = X['Star color'].str.capitalize()\n",
    "X.loc[:,'Star color'] = X['Star color'].str.strip()\n",
    "\n",
    "\n",
    "star_color_names = pd.unique(X['Star color'])\n",
    "print(star_color_names)\n",
    "\n",
    "X['Star color'].replace('Red', 0, inplace = True)\n",
    "X['Star color'].replace('Blue-white', 1, inplace = True)\n",
    "X['Star color'].replace('Blue white', 1, inplace = True)\n",
    "X['Star color'].replace('White', 2, inplace = True)\n",
    "X['Star color'].replace('Whitish', 3, inplace = True)\n",
    "X['Star color'].replace('Yellowish white', 4, inplace = True)\n",
    "X['Star color'].replace('Yellow-white', 5, inplace = True)\n",
    "X['Star color'].replace('Pale yellow orange', 6, inplace = True)\n",
    "X['Star color'].replace('Orange', 7, inplace = True)\n",
    "X['Star color'].replace('White-yellow', 8, inplace = True)\n",
    "X['Star color'].replace('Yellowish', 9, inplace = True)\n",
    "X['Star color'].replace('Orange-red', 10, inplace = True)\n",
    "X['Star color'].replace('Blue', 11, inplace = True)\n",
    "\n",
    "#Converting spectral class to numerical value\n",
    "\n",
    "X['Spectral Class'].replace('M', 0, inplace = True)\n",
    "X['Spectral Class'].replace('B', 1, inplace = True)\n",
    "X['Spectral Class'].replace('A', 2, inplace = True)\n",
    "X['Spectral Class'].replace('F', 3, inplace = True)\n",
    "X['Spectral Class'].replace('O', 4, inplace = True)\n",
    "X['Spectral Class'].replace('K', 5, inplace = True)\n",
    "X['Spectral Class'].replace('G', 6, inplace = True)"
   ]
  },
  {
   "cell_type": "code",
   "execution_count": 29,
   "metadata": {},
   "outputs": [
    {
     "name": "stdout",
     "output_type": "stream",
     "text": [
      "     Temperature (K)  Luminosity(L/Lo)  Radius(R/Ro)  Absolute magnitude(Mv)  \\\n",
      "0          -0.779382         -0.598624     -0.459210                1.116745   \n",
      "1          -0.782110         -0.598624     -0.459241                1.162414   \n",
      "2          -0.828477         -0.598624     -0.459342                1.362213   \n",
      "3          -0.807496         -0.598624     -0.459229                1.167171   \n",
      "4          -0.897819         -0.598624     -0.459340                1.491607   \n",
      "..               ...               ...           ...                     ...   \n",
      "235         2.983743          1.494720      2.167974               -1.361718   \n",
      "236         2.133913          4.059319      1.854068               -1.428317   \n",
      "237        -0.175029          2.403157      2.297800               -1.437832   \n",
      "238        -0.132438          1.662878      1.695177               -1.485403   \n",
      "239         2.872754          1.048345      2.995370               -1.159064   \n",
      "\n",
      "     Star color  Spectral Class  \n",
      "0     -0.730492       -0.841613  \n",
      "1     -0.730492       -0.841613  \n",
      "2     -0.730492       -0.841613  \n",
      "3     -0.730492       -0.841613  \n",
      "4     -0.730492       -0.841613  \n",
      "..          ...             ...  \n",
      "235    1.680131        1.599319  \n",
      "236    1.680131        1.599319  \n",
      "237   -0.292197        0.378853  \n",
      "238   -0.292197        0.378853  \n",
      "239    1.680131        1.599319  \n",
      "\n",
      "[240 rows x 6 columns]\n",
      "SHAPE ===> 240 6\n",
      "   Temperature (K)  Luminosity(L/Lo)  Radius(R/Ro)  Absolute magnitude(Mv)  \\\n",
      "0        -0.798055         -0.598624     -0.459074                0.863666   \n",
      "1        -0.731651         -0.598624     -0.458921                0.765669   \n",
      "2         0.660114         -0.598624     -0.459516                0.807532   \n",
      "3        -0.805713         -0.598624     -0.459363                1.148142   \n",
      "4         0.722322          1.316398     -0.401408               -0.996370   \n",
      "\n",
      "   Star color  Spectral Class  \n",
      "0   -0.730492       -0.841613  \n",
      "1   -0.730492       -0.841613  \n",
      "2    1.680131       -0.231380  \n",
      "3   -0.730492       -0.841613  \n",
      "4    1.680131        1.599319  \n",
      "0    1\n",
      "1    1\n",
      "2    2\n",
      "3    0\n",
      "4    4\n",
      "Name: Star type, dtype: int64\n",
      "   Temperature (K)  Luminosity(L/Lo)  Radius(R/Ro)  Absolute magnitude(Mv)  \\\n",
      "0         1.482563          1.428652     -0.337465               -0.971633   \n",
      "1         0.543670         -0.598624     -0.459517                0.717147   \n",
      "2        -0.770780         -0.598624     -0.458861                0.719050   \n",
      "3        -0.771619         -0.598624     -0.459039                0.926460   \n",
      "4         1.528721         -0.517644     -0.448068               -0.795619   \n",
      "\n",
      "   Star color  Spectral Class  \n",
      "0    1.680131        1.599319  \n",
      "1    1.680131       -0.231380  \n",
      "2   -0.730492       -0.841613  \n",
      "3   -0.730492       -0.841613  \n",
      "4   -0.511344       -0.231380  \n",
      "0    4\n",
      "1    2\n",
      "2    1\n",
      "3    1\n",
      "4    3\n",
      "Name: Star type, dtype: int64\n"
     ]
    }
   ],
   "source": [
    "# Normalization of data\n",
    "def normalized_data(data):\n",
    "    means = np.mean(data, axis=0)\n",
    "    stds = np.std(data, axis=0)\n",
    "    return (data - means) / stds\n",
    "\n",
    "X_norm = normalized_data(X)\n",
    "\n",
    "print(X_norm)\n",
    "\n",
    "# Partitioning the dataset\n",
    "m, n = X_norm.shape\n",
    "print(\"SHAPE ===>\",m,n)\n",
    "\n",
    "# 1. create index list\n",
    "idx = np.arange(0, m)\n",
    "# 2. shuffle index\n",
    "random.shuffle(idx)\n",
    "\n",
    "# 3. Create train/test index\n",
    "percent_train = .7\n",
    "m_train = int(m * percent_train)\n",
    "train_idx = idx[0:m_train]\n",
    "test_idx = idx[m_train:]\n",
    "\n",
    "# 4. Separate X_Train, y_train, X_test, y_test\n",
    "X_train = X_norm.iloc[train_idx,:];\n",
    "X_test = X_norm.iloc[test_idx,:];\n",
    "y_train = y.iloc[train_idx];\n",
    "y_test = y.iloc[test_idx];\n",
    "\n",
    "#reseting the index\n",
    "X_train.reset_index(drop=True, inplace=True)\n",
    "y_train.reset_index(drop=True, inplace=True)\n",
    "X_test.reset_index(drop=True, inplace=True)\n",
    "y_test.reset_index(drop=True, inplace=True)\n",
    "\n",
    "print(X_train.head())\n",
    "print(y_train.head())\n",
    "print(X_test.head())\n",
    "print(y_test.head())\n",
    "\n"
   ]
  },
  {
   "cell_type": "code",
   "execution_count": 30,
   "metadata": {},
   "outputs": [
    {
     "name": "stdout",
     "output_type": "stream",
     "text": [
      "Missing values for X_train data:\n",
      "------------------------\n",
      " Temperature (K)           0\n",
      "Luminosity(L/Lo)          0\n",
      "Radius(R/Ro)              0\n",
      "Absolute magnitude(Mv)    0\n",
      "Star color                0\n",
      "Spectral Class            0\n",
      "dtype: int64\n",
      "Missing values for y_train data \n",
      " ------------------------\n",
      " 0\n",
      "Missing values for X_test data:\n",
      "------------------------\n",
      " Temperature (K)           0\n",
      "Luminosity(L/Lo)          0\n",
      "Radius(R/Ro)              0\n",
      "Absolute magnitude(Mv)    0\n",
      "Star color                0\n",
      "Spectral Class            0\n",
      "dtype: int64\n",
      "Missing values for y_test data \n",
      " ------------------------\n",
      " 0\n"
     ]
    }
   ],
   "source": [
    "#Cleaning and preparing the dataset\n",
    "print('Missing values for X_train data:\\n------------------------\\n', X_train.isnull().sum())\n",
    "print('Missing values for y_train data \\n ------------------------\\n', y_train.isnull().sum())\n",
    "\n",
    "print('Missing values for X_test data:\\n------------------------\\n', X_test.isnull().sum())\n",
    "print('Missing values for y_test data \\n ------------------------\\n', y_test.isnull().sum())\n"
   ]
  },
  {
   "cell_type": "code",
   "execution_count": 31,
   "metadata": {},
   "outputs": [
    {
     "name": "stdout",
     "output_type": "stream",
     "text": [
      "     intercept  Temperature (K)  Luminosity(L/Lo)  Radius(R/Ro)  \\\n",
      "0            1        -0.798055         -0.598624     -0.459074   \n",
      "1            1        -0.731651         -0.598624     -0.458921   \n",
      "2            1         0.660114         -0.598624     -0.459516   \n",
      "3            1        -0.805713         -0.598624     -0.459363   \n",
      "4            1         0.722322          1.316398     -0.401408   \n",
      "..         ...              ...               ...           ...   \n",
      "163          1        -0.788299         -0.598624     -0.459357   \n",
      "164          1        -0.740253         -0.598623     -0.458859   \n",
      "165          1        -0.735742         -0.598624     -0.459346   \n",
      "166          1        -0.726196          0.088305     -0.372343   \n",
      "167          1         0.168113          0.071550      0.914092   \n",
      "\n",
      "     Absolute magnitude(Mv)  Star color  Spectral Class  \n",
      "0                  0.863666   -0.730492       -0.841613  \n",
      "1                  0.765669   -0.730492       -0.841613  \n",
      "2                  0.807532    1.680131       -0.231380  \n",
      "3                  1.148142   -0.730492       -0.841613  \n",
      "4                 -0.996370    1.680131        1.599319  \n",
      "..                      ...         ...             ...  \n",
      "163                1.113891   -0.730492       -0.841613  \n",
      "164                0.646741   -0.730492       -0.841613  \n",
      "165                1.169074   -0.730492       -0.841613  \n",
      "166               -1.062019   -0.730492       -0.841613  \n",
      "167               -1.162870   -0.511344       -0.231380  \n",
      "\n",
      "[168 rows x 7 columns]\n",
      "[[1. 1. 1. 1. 1. 1. 1.]\n",
      " [1. 1. 1. 1. 1. 1. 1.]\n",
      " [1. 1. 1. 1. 1. 1. 1.]\n",
      " [1. 1. 1. 1. 1. 1. 1.]\n",
      " [1. 1. 1. 1. 1. 1. 1.]\n",
      " [1. 1. 1. 1. 1. 1. 1.]]\n",
      "[[0.83594347 0.55742839 0.89585499 0.90869881 1.82952032 0.67389017\n",
      "  0.52714461]\n",
      " [0.97105316 0.4698852  0.76552733 0.80365211 1.33098635 0.58972584\n",
      "  0.40658755]\n",
      " [1.12374006 1.43438022 0.58740902 0.79241275 1.74387814 1.40731792\n",
      "  1.204971  ]\n",
      " [1.23738487 1.49931045 0.51850456 0.64165272 0.41943987 0.82201017\n",
      "  1.56705683]\n",
      " [0.97736019 1.02770904 1.68394918 0.63433242 0.27711306 1.56738669\n",
      "  1.30498558]\n",
      " [0.85451825 1.01128669 1.54875491 2.21925118 0.39906227 0.93966921\n",
      "  0.98925443]]\n",
      "     intercept  Temperature (K)  Luminosity(L/Lo)  Radius(R/Ro)  \\\n",
      "0            1        -0.798055         -0.598624     -0.459074   \n",
      "1            1        -0.731651         -0.598624     -0.458921   \n",
      "2            1         0.660114         -0.598624     -0.459516   \n",
      "3            1        -0.805713         -0.598624     -0.459363   \n",
      "4            1         0.722322          1.316398     -0.401408   \n",
      "..         ...              ...               ...           ...   \n",
      "163          1        -0.788299         -0.598624     -0.459357   \n",
      "164          1        -0.740253         -0.598623     -0.458859   \n",
      "165          1        -0.735742         -0.598624     -0.459346   \n",
      "166          1        -0.726196          0.088305     -0.372343   \n",
      "167          1         0.168113          0.071550      0.914092   \n",
      "\n",
      "     Absolute magnitude(Mv)  Star color  Spectral Class  \n",
      "0                  0.863666   -0.730492       -0.841613  \n",
      "1                  0.765669   -0.730492       -0.841613  \n",
      "2                  0.807532    1.680131       -0.231380  \n",
      "3                  1.148142   -0.730492       -0.841613  \n",
      "4                 -0.996370    1.680131        1.599319  \n",
      "..                      ...         ...             ...  \n",
      "163                1.113891   -0.730492       -0.841613  \n",
      "164                0.646741   -0.730492       -0.841613  \n",
      "165                1.169074   -0.730492       -0.841613  \n",
      "166               -1.062019   -0.730492       -0.841613  \n",
      "167               -1.162870   -0.511344       -0.231380  \n",
      "\n",
      "[168 rows x 7 columns]\n"
     ]
    }
   ],
   "source": [
    "\n",
    "#To find no of class\n",
    "y_labels = pd.unique(y)\n",
    "num_class = len(y_labels)\n",
    "\n",
    "\n",
    "if (X_train.shape[1] == X.shape[1]): \n",
    "    X_train.insert(0, \"intercept\", 1)\n",
    "    \n",
    "print(X_train)\n",
    "r, c = X_train.shape\n",
    "\n",
    "theta_initial = np.ones((num_class, c))\n",
    "print(theta_initial)\n",
    "\n",
    "alpha = .05\n",
    "iterations = 200\n",
    "\n",
    "# Logistic regression\n",
    "theta = gradient_descent(X_train, y_train, theta_initial, alpha, iterations, num_class)\n",
    "print(theta)\n",
    "print(X_train)\n"
   ]
  },
  {
   "cell_type": "code",
   "execution_count": 32,
   "metadata": {},
   "outputs": [
    {
     "name": "stdout",
     "output_type": "stream",
     "text": [
      "The accuracy of the model is 0.9444444444444444\n"
     ]
    }
   ],
   "source": [
    "# Prediction on test data \n",
    "\n",
    "if (X_test.shape[1] == X.shape[1]): \n",
    "    X_test.insert(0, \"intercept\", 1)\n",
    "\n",
    "# Reset m and n for test data\n",
    "r,c = X_test.shape\n",
    "\n",
    "def calc_y_pred(X, theta):\n",
    "    y_pred = []\n",
    "    \n",
    "    for index,row in X.iterrows(): # get a row of X_test data\n",
    "        # calculate y_hat using hypothesis function\n",
    "        y_hat = h(row, theta, num_class)\n",
    "        # find the index (integer value) of maximum value in y_hat and input back to prediction\n",
    "        result = int(np.where(y_hat == np.amax(y_hat))[0])\n",
    "        prediction = result\n",
    "\n",
    "        # collect the result\n",
    "        y_pred.append(prediction)\n",
    "    return y_pred\n",
    "\n",
    "y_pred = calc_y_pred(X_test, theta)\n",
    "    \n",
    "accuracy = calc_accuracy(y_test, y_pred)\n",
    "print(\"The accuracy of the model is\", accuracy)"
   ]
  },
  {
   "cell_type": "code",
   "execution_count": 33,
   "metadata": {},
   "outputs": [
    {
     "name": "stdout",
     "output_type": "stream",
     "text": [
      "     intercept  Temperature (K)  Luminosity(L/Lo)  Radius(R/Ro)  \\\n",
      "0            1        -0.798055         -0.598624     -0.459074   \n",
      "1            1        -0.731651         -0.598624     -0.458921   \n",
      "2            1         0.660114         -0.598624     -0.459516   \n",
      "3            1        -0.805713         -0.598624     -0.459363   \n",
      "4            1         0.722322          1.316398     -0.401408   \n",
      "..         ...              ...               ...           ...   \n",
      "163          1        -0.788299         -0.598624     -0.459357   \n",
      "164          1        -0.740253         -0.598623     -0.458859   \n",
      "165          1        -0.735742         -0.598624     -0.459346   \n",
      "166          1        -0.726196          0.088305     -0.372343   \n",
      "167          1         0.168113          0.071550      0.914092   \n",
      "\n",
      "     Absolute magnitude(Mv)  Star color  Spectral Class  \n",
      "0                  0.863666   -0.730492       -0.841613  \n",
      "1                  0.765669   -0.730492       -0.841613  \n",
      "2                  0.807532    1.680131       -0.231380  \n",
      "3                  1.148142   -0.730492       -0.841613  \n",
      "4                 -0.996370    1.680131        1.599319  \n",
      "..                      ...         ...             ...  \n",
      "163                1.113891   -0.730492       -0.841613  \n",
      "164                0.646741   -0.730492       -0.841613  \n",
      "165                1.169074   -0.730492       -0.841613  \n",
      "166               -1.062019   -0.730492       -0.841613  \n",
      "167               -1.162870   -0.511344       -0.231380  \n",
      "\n",
      "[168 rows x 7 columns]\n"
     ]
    },
    {
     "data": {
      "image/png": "[encoded data removed]",
      "text/plain": [
       "<Figure size 432x288 with 1 Axes>"
      ]
     },
     "metadata": {
      "needs_background": "light"
     },
     "output_type": "display_data"
    }
   ],
   "source": [
    "theta_arr = []\n",
    "cost_arr = []\n",
    "accuracy_arr = []\n",
    "\n",
    "# design your own learning rate and num iterations\n",
    "alpha_arr = np.array([0.008, 0.08, 0.06, 0.01])\n",
    "iterations_arr = np.array([300, 450, 500, 600])\n",
    "\n",
    "if (X_train.shape[1] == X.shape[1]): \n",
    "    X_train.insert(0, \"intercept\", 1)\n",
    "print(X_train)\n",
    "\n",
    "\n",
    "for i in range(4):\n",
    "    theta, cost = my_gradient_descent(X_train, y_train, theta_initial, alpha_arr[i], iterations_arr[i], num_class)\n",
    "    theta_arr.append(theta)\n",
    "    cost_arr.append(cost)\n",
    "    y_pred = calc_y_pred(X_test, theta)\n",
    "    accuracy = calc_accuracy(y_test, y_pred)\n",
    "    accuracy_arr.append(accuracy)\n",
    "    \n",
    "plt.plot(cost_arr[0], label='alpha:0.008, acc:'+ str(round(accuracy_arr[0],2)))\n",
    "plt.plot(cost_arr[1], label='alpha:0.08, acc:'+ str(round(accuracy_arr[1],2)))\n",
    "plt.plot(cost_arr[2], label='alpha:0.01, acc:'+ str(round(accuracy_arr[2],2)))\n",
    "plt.plot(cost_arr[3], label='alpha:0.1, acc:'+ str(round(accuracy_arr[3],2)))\n",
    "plt.xlabel(\"Iteration\")\n",
    "plt.ylabel(\"cost\")\n",
    "plt.legend()\n",
    "plt.show()"
   ]
  },
  {
   "cell_type": "code",
   "execution_count": 34,
   "metadata": {},
   "outputs": [
    {
     "name": "stdout",
     "output_type": "stream",
     "text": [
      "Accuracy is => 0.8809523809523809\n",
      "(168, 7)\n"
     ]
    },
    {
     "data": {
      "image/png": "[encoded data removed]",
      "text/plain": [
       "<Figure size 720x360 with 1 Axes>"
      ]
     },
     "metadata": {
      "needs_background": "light"
     },
     "output_type": "display_data"
    },
    {
     "data": {
      "image/png": "[encoded data removed]",
      "text/plain": [
       "<Figure size 720x360 with 1 Axes>"
      ]
     },
     "metadata": {
      "needs_background": "light"
     },
     "output_type": "display_data"
    },
    {
     "data": {
      "image/png": "[encoded data removed]",
      "text/plain": [
       "<Figure size 720x360 with 1 Axes>"
      ]
     },
     "metadata": {
      "needs_background": "light"
     },
     "output_type": "display_data"
    },
    {
     "data": {
      "image/png": "[encoded data removed]",
      "text/plain": [
       "<Figure size 720x360 with 1 Axes>"
      ]
     },
     "metadata": {
      "needs_background": "light"
     },
     "output_type": "display_data"
    }
   ],
   "source": [
    "from matplotlib.pyplot import figure\n",
    "\n",
    "y_pred = calc_y_pred(X_train, theta)\n",
    "accuracy = calc_accuracy(y_train, y_pred)\n",
    "print(\"Accuracy is =>\", accuracy)\n",
    "print(X_train.shape)\n",
    "m, n = X_train.shape\n",
    "\n",
    "#Split the X_train into classes based on the y_test\n",
    "X_train_idx0 = []\n",
    "X_train_idx1 = []\n",
    "X_train_idx2 = []\n",
    "X_train_idx3 = []\n",
    "X_train_idx4 = []\n",
    "X_train_idx5 = []\n",
    "\n",
    "X_train_p_idx0 = []\n",
    "X_train_p_idx1 = []\n",
    "X_train_p_idx2 = []\n",
    "X_train_p_idx3 = []\n",
    "X_train_p_idx4 = []\n",
    "X_train_p_idx5 = []\n",
    "\n",
    "\n",
    "for i in range(len(y_train)):\n",
    "    if y_train[i] == 0:\n",
    "        X_train_idx0.append(i)\n",
    "    elif y_train[i] == 1:\n",
    "        X_train_idx1.append(i)\n",
    "    elif y_train[i] == 2:\n",
    "        X_train_idx2.append(i)\n",
    "    elif y_train[i] == 3:\n",
    "        X_train_idx3.append(i)\n",
    "    elif y_train[i] == 4:\n",
    "        X_train_idx4.append(i)\n",
    "    else:\n",
    "        X_train_idx5.append(i)\n",
    "        \n",
    "    if y_pred[i] == 0:\n",
    "        X_train_p_idx0.append(i)\n",
    "    elif y_pred[i] == 1:\n",
    "        X_train_p_idx1.append(i)\n",
    "    elif y_pred[i] == 2:\n",
    "        X_train_p_idx2.append(i)\n",
    "    elif y_pred[i] == 3:\n",
    "        X_train_p_idx3.append(i)\n",
    "    elif y_pred[i] == 4:\n",
    "        X_train_p_idx4.append(i)\n",
    "    else:\n",
    "        X_train_p_idx5.append(i)\n",
    "  \n",
    "#Spliting the x train\n",
    "X_train_0 = X_train.iloc[X_train_idx0, :]\n",
    "X_train_1 = X_train.iloc[X_train_idx1, :]\n",
    "X_train_2 = X_train.iloc[X_train_idx2, :]\n",
    "X_train_3 = X_train.iloc[X_train_idx3, :]\n",
    "X_train_4 = X_train.iloc[X_train_idx4, :]\n",
    "X_train_5 = X_train.iloc[X_train_idx5, :]\n",
    "\n",
    "\n",
    "X_train_p_0 = X_train.iloc[X_train_p_idx0, :]\n",
    "X_train_p_1 = X_train.iloc[X_train_p_idx1, :]\n",
    "X_train_p_2 = X_train.iloc[X_train_p_idx2, :]\n",
    "X_train_p_3 = X_train.iloc[X_train_p_idx3, :]\n",
    "X_train_p_4 = X_train.iloc[X_train_p_idx4, :]\n",
    "X_train_p_5 = X_train.iloc[X_train_p_idx5, :]\n",
    "\n",
    "features_x = ['Temperature (K)', 'Luminosity(L/Lo)', 'Radius(R/Ro)', 'Absolute magnitude(Mv)']\n",
    "features_y = ['Luminosity(L/Lo)', 'Radius(R/Ro)', 'Absolute magnitude(Mv)', 'Temperature (K)']\n",
    "plot_label_x = ['Temperature (K)', 'Luminosity(L/Lo)', 'Radius(R/Ro)', 'Absolute magnitude(Mv)']\n",
    "plot_label_y = ['Luminosity(L/Lo)', 'Radius(R/Ro)', 'Absolute magnitude(Mv)', 'Temperature (K)']\n",
    "\n",
    "for i in range(len(features_x)):\n",
    "  \n",
    "    figure(figsize=(10, 5))\n",
    "    plt.scatter(X_train_0[features_x[i]],X_train_0[features_y[i]], s=50, c='b', marker='o', label='Actual')\n",
    "    plt.scatter(X_train_1[features_x[i]],X_train_1[features_y[i]], s=50, c='g', marker='o', label='Actual')\n",
    "    plt.scatter(X_train_2[features_x[i]],X_train_2[features_y[i]], s=50, c='r', marker='o', label='Actual')\n",
    "    plt.scatter(X_train_3[features_x[i]],X_train_3[features_y[i]], s=50, c='pink', marker='o', label='Actual')\n",
    "    plt.scatter(X_train_4[features_x[i]],X_train_4[features_y[i]], s=50, c='brown', marker='o', label='Actual')\n",
    "    plt.scatter(X_train_5[features_x[i]],X_train_5[features_y[i]], s=50, c='orange', marker='o', label='Actual')\n",
    "\n",
    "    plt.scatter(X_train_p_0[features_x[i]],X_train_p_0[features_y[i]], s=50, c='b', marker='.', label='Predicted')\n",
    "    plt.scatter(X_train_p_1[features_x[i]],X_train_p_1[features_y[i]], s=50, c='g', marker='.', label='Predicted')\n",
    "    plt.scatter(X_train_p_2[features_x[i]],X_train_p_2[features_y[i]], s=50, c='r', marker='.', label='Predicted')\n",
    "    plt.scatter(X_train_p_3[features_x[i]],X_train_p_3[features_y[i]], s=50, c='pink', marker='.', label='Predicted')\n",
    "    plt.scatter(X_train_p_4[features_x[i]],X_train_p_4[features_y[i]], s=50, c='brown', marker='.', label='Predicted')\n",
    "    plt.scatter(X_train_p_5[features_x[i]],X_train_p_5[features_y[i]], s=50, c='orange', marker='.', label='Predicted')\n",
    "    plt.xlabel(plot_label_x[i])\n",
    "    plt.ylabel(plot_label_y[i])\n",
    "    plt.legend()\n",
    "    plt.show()"
   ]
  },
  {
   "cell_type": "markdown",
   "metadata": {},
   "source": [
    "In this take-home exercise, at first, the dataset was cleaned and prepared for further processing. The string values of some features like 'Star color' and 'Spectral class' were converted to numerical.\n",
    "\n",
    "Furthermore, the dataset was also normalized for smoother curves and higher accuracy than unnormalized data. The model was trained after the dataset was split into train and test sets. The model's accuracy was found to be around 80% for alpha 0.05 after 200 iterations.\n",
    "\n",
    "The model was trained for different values of alpha and a varying amount of iterations to get better results. When alpha was obtained at 0.08 and iterated 450 times, accuracy was determined to be around 99 percent. \n",
    "\n",
    "Finally, the scatter plots of actual class and predicted class for different parameters were plotted as shown above. The overlaps of the small dots over the larger dots depicted the error in predictions."
   ]
  }
 ],
 "metadata": {
  "kernelspec": {
   "display_name": "Python 3 (ipykernel)",
   "language": "python",
   "name": "python3"
  },
  "language_info": {
   "codemirror_mode": {
    "name": "ipython",
    "version": 3
   },
   "file_extension": ".py",
   "mimetype": "text/x-python",
   "name": "python",
   "nbconvert_exporter": "python",
   "pygments_lexer": "ipython3",
   "version": "3.8.3"
  }
 },
 "nbformat": 4,
 "nbformat_minor": 4
}
