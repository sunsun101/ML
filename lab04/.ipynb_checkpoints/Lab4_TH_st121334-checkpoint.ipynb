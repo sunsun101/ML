{
 "cells": [
  {
   "cell_type": "markdown",
   "metadata": {},
   "source": [
    "## Take Home Exercise 4 - Multinomial Regression\n",
    "\n",
    "Name: Suyogya Ratna Tamrakar\n",
    "\n",
    "ID: 121334\n",
    "\n",
    "---\n",
    "\n",
    "The following example of multinomial logistic regression is from [Kaggle](https://www.kaggle.com/shadowtime2000/fish-species-prediction).\n",
    "\n",
    "This dataset is a record of 7 common different fish species in fish market sales. \n",
    "\n",
    "The data includes 6 independent variables.\n",
    "1. Weight in g\n",
    "2. Length 1 in cm\n",
    "3. Length 2 in cm\n",
    "4. Length 3 in cm\n",
    "5. Height in cm\n",
    "6. Width in cm\n",
    "\n",
    "The target takes one of seven different classes.\n",
    "1. Bream\n",
    "2. Roach\n",
    "3. Whitefish\n",
    "4. Parkki\n",
    "5. Perch\n",
    "6. Pike\n",
    "7. Smelt\n",
    "\n",
    "   \n",
    "To predict the target value, we use multinomial logistic regression for $k=7$ classes i.e. $y \\in \\{ 1, 2, 3, 4, 5, 6, 7 \\}$. \n",
    "\n",
    "Given $\\mathbf{x}$, we would like to predict a probability distribution over the\n",
    "seven outcomes for $y$, i.e., $\\phi_1 = p(y=1 \\mid \\mathbf{x})$, $\\phi_2 = p(y=2 \\mid \\mathbf{x})$, $\\phi_3 = p(y=3 \\mid \\mathbf{x})$, $\\phi_4 = p(y=4 \\mid \\mathbf{x})$, $\\phi_5 = p(y=5 \\mid \\mathbf{x})$, $\\phi_6 = p(y=6 \\mid \\mathbf{x})$, and $\\phi_7 = p(y=7 \\mid \\mathbf{x})$.\n"
   ]
  },
  {
   "cell_type": "code",
   "execution_count": 1,
   "metadata": {},
   "outputs": [],
   "source": [
    "# importing libraries\n",
    "import numpy as np\n",
    "import pandas as pd \n",
    "import random\n",
    "import math\n",
    "import matplotlib.pyplot as plt"
   ]
  },
  {
   "cell_type": "markdown",
   "metadata": {},
   "source": [
    "The `phi` function returns $\\phi_i$ for input patterns $\\mathtt{X}$ and parameters $\\theta$."
   ]
  },
  {
   "cell_type": "code",
   "execution_count": 2,
   "metadata": {},
   "outputs": [],
   "source": [
    "def phi(i, theta, X):\n",
    "    mat_theta = np.matrix(theta[i])\n",
    "    mat_x = np.matrix(X)\n",
    "    num = math.exp(np.dot(mat_theta,mat_x.T))\n",
    "    #num = np.exp(np.dot(mat_theta, mat_x.T))\n",
    "    den = 0\n",
    "    for j in range(0,k):\n",
    "        mat_theta_j = np.matrix(theta[j])\n",
    "        den = den + math.exp(np.dot(mat_theta_j,mat_x.T))\n",
    "    phi_i = num/den\n",
    "    return phi_i"
   ]
  },
  {
   "cell_type": "markdown",
   "metadata": {},
   "source": [
    "The `grad_cost` function gives the gradient of the cost for data $\\mathtt{X}, \\mathbf{y}$ for class $j\\in 1..k$."
   ]
  },
  {
   "cell_type": "code",
   "execution_count": 3,
   "metadata": {},
   "outputs": [],
   "source": [
    "def indicator(i, j):\n",
    "    if i == j: return 1\n",
    "    else: return 0\n",
    "\n",
    "def grad_cost(X, y, j, theta):\n",
    "    sum = np.array([0 for i in range(0,n)])\n",
    "    for i in range(0, m):\n",
    "        p = indicator(y[i], j) - phi(j, theta,X.loc[i])\n",
    "        sum = sum + (X.loc[i] * p)\n",
    "    grad = -sum/m\n",
    "    return grad\n",
    "\n",
    "def cost(X, y, theta):\n",
    "    k=len(y.unique())\n",
    "    m,n=X.shape\n",
    "    #cost value\n",
    "    c=np.zeros(n)\n",
    "    for i in range(m):\n",
    "        for j in range(k):\n",
    "            p=indicator(y[i], j)*np.log(phi(j, theta, X.loc[i]))\n",
    "            c+=p\n",
    "    c*=-1\n",
    "    return np.sum(c)\n",
    "\n",
    "def gradient_descent(X, y, theta, alpha, iters):\n",
    "    j_history = []\n",
    "    for iter in range(iters):\n",
    "        for j in range(0, k):\n",
    "            theta[j] = theta[j] - alpha * grad_cost(X, y, j, theta)\n",
    "        j_history.append(cost(X, y, theta))\n",
    "    return theta, j_history\n",
    "\n",
    "def h(X, theta):\n",
    "    X = np.matrix(X)\n",
    "    h_matrix = np.empty((k,1))\n",
    "    den = 0\n",
    "    for j in range(0,k):\n",
    "        den = den + math.exp(np.dot(theta[j], X.T))\n",
    "    for i in range(0,k):\n",
    "        h_matrix[i] = math.exp(np.dot(theta[i],X.T))\n",
    "    h_matrix = h_matrix/den\n",
    "    return h_matrix"
   ]
  },
  {
   "cell_type": "markdown",
   "metadata": {},
   "source": [
    "### Importing the dataset"
   ]
  },
  {
   "cell_type": "code",
   "execution_count": 4,
   "metadata": {},
   "outputs": [
    {
     "name": "stdout",
     "output_type": "stream",
     "text": [
      "  Species  Weight  Length1  Length2  Length3   Height   Width\n",
      "0   Bream   242.0     23.2     25.4     30.0  11.5200  4.0200\n",
      "1   Bream   290.0     24.0     26.3     31.2  12.4800  4.3056\n",
      "2   Bream   340.0     23.9     26.5     31.1  12.3778  4.6961\n",
      "3   Bream   363.0     26.3     29.0     33.5  12.7300  4.4555\n",
      "4   Bream   430.0     26.5     29.0     34.0  12.4440  5.1340\n"
     ]
    }
   ],
   "source": [
    "data = pd.read_csv('Fish.csv')\n",
    "print(data.head())\n",
    "\n",
    "# Extract y from data\n",
    "y_label = 'Species'\n",
    "\n",
    "y = data[y_label]\n",
    "\n",
    "y_index = data.columns.get_loc(y_label)\n",
    "\n",
    "# Extract features from data\n",
    "X = data.iloc[:, 1:]"
   ]
  },
  {
   "cell_type": "code",
   "execution_count": 5,
   "metadata": {},
   "outputs": [
    {
     "name": "stdout",
     "output_type": "stream",
     "text": [
      "     Weight   Length1   Length2   Length3    Height     Width\n",
      "0 -1.157777 -1.562336 -1.598770 -1.607813 -1.517470 -1.733475\n",
      "1 -0.591415 -0.431387 -0.477029 -0.389420 -0.353543 -0.192403\n",
      "2 -0.410468 -0.079299 -0.079952 -0.198478 -0.403905 -0.075255\n",
      "3  0.958693  0.699562  0.763836  0.947174  1.646917  0.779674\n",
      "4 -0.516021 -0.442056 -0.427394 -0.507623 -0.376311 -0.420271\n",
      "(111, 6)\n",
      "       Weight   Length1   Length2   Length3    Height     Width\n",
      "111 -0.968642 -1.461632 -1.509822 -1.559434 -2.032288 -2.196273\n",
      "112 -0.497097 -0.471602 -0.473799 -0.450040  0.415178 -0.443234\n",
      "113  0.895549  1.633327  1.614956  1.534368 -0.341948  0.750271\n",
      "114  0.724522  0.348963  0.361703  0.526539  1.697390  0.687124\n",
      "115 -0.545962 -0.311057 -0.306699 -0.395352 -0.694267 -0.429365\n",
      "(48, 6)\n",
      "0    Smelt\n",
      "1    Roach\n",
      "2    Perch\n",
      "3    Bream\n",
      "4    Perch\n",
      "Name: Species, dtype: object\n",
      "(111,)\n",
      "154      Pike\n",
      "155    Parkki\n",
      "156     Perch\n",
      "157     Perch\n",
      "158     Roach\n",
      "Name: Species, dtype: object\n",
      "(48,)\n",
      "0 - Bream\n",
      "1 - Roach\n",
      "2 - Whitefish\n",
      "3 - Parkki\n",
      "4 - Perch\n",
      "5 - Pike\n",
      "6 - Smelt\n"
     ]
    }
   ],
   "source": [
    "m, n = X.shape\n",
    "idx = np.arange(0,m)\n",
    "\n",
    "# Partion data into training and testing dataset\n",
    "random.shuffle(idx)\n",
    "data = data.iloc[idx,:]\n",
    "data = data.reset_index()\n",
    "data = data.drop(['index'],axis=1)\n",
    "#data = data.drop(['level_0'], axis=1)\n",
    "percent_train = 0.7\n",
    "m_train = int(m*percent_train)\n",
    "\n",
    "X_train = data.iloc[0:m_train,1:];\n",
    "X_train = (X_train - np.mean(X_train, axis=0))/np.std(X_train, axis=0)\n",
    "X_test = data.iloc[m_train:,1:];\n",
    "X_test = (X_test - np.mean(X_test, axis=0))/np.std(X_test, axis=0)\n",
    "print(X_train.head())\n",
    "print(X_train.shape)\n",
    "print(X_test.head())\n",
    "print(X_test.shape)\n",
    "\n",
    "y_train = data.iloc[:m_train,y_index];\n",
    "y_test = data.iloc[m_train:,y_index];\n",
    "print(y_train.head())\n",
    "print(y_train.shape)\n",
    "print(y_test.tail())\n",
    "print(y_test.shape)\n",
    "labels = pd.unique(data[y_label])\n",
    "\n",
    "# Encode target labels as integers 0..k-1\n",
    "\n",
    "i = 0\n",
    "for label in y.unique():\n",
    "    print(\"{} - {}\".format(i, label))\n",
    "    y_train[y_train.str.match(label)] = str(i)\n",
    "    y_test[y_test.str.match(label)] = str(i)\n",
    "    i = i + 1      \n",
    "y_train = y_train.astype(int)\n",
    "y_test = y_test.astype(int)"
   ]
  },
  {
   "cell_type": "code",
   "execution_count": 6,
   "metadata": {},
   "outputs": [
    {
     "data": {
      "text/html": [
       "<div>\n",
       "<style scoped>\n",
       "    .dataframe tbody tr th:only-of-type {\n",
       "        vertical-align: middle;\n",
       "    }\n",
       "\n",
       "    .dataframe tbody tr th {\n",
       "        vertical-align: top;\n",
       "    }\n",
       "\n",
       "    .dataframe thead th {\n",
       "        text-align: right;\n",
       "    }\n",
       "</style>\n",
       "<table border=\"1\" class=\"dataframe\">\n",
       "  <thead>\n",
       "    <tr style=\"text-align: right;\">\n",
       "      <th></th>\n",
       "      <th>Weight</th>\n",
       "      <th>Length1</th>\n",
       "      <th>Length2</th>\n",
       "      <th>Length3</th>\n",
       "      <th>Height</th>\n",
       "      <th>Width</th>\n",
       "    </tr>\n",
       "  </thead>\n",
       "  <tbody>\n",
       "    <tr>\n",
       "      <th>0</th>\n",
       "      <td>-1.157777</td>\n",
       "      <td>-1.562336</td>\n",
       "      <td>-1.598770</td>\n",
       "      <td>-1.607813</td>\n",
       "      <td>-1.517470</td>\n",
       "      <td>-1.733475</td>\n",
       "    </tr>\n",
       "    <tr>\n",
       "      <th>1</th>\n",
       "      <td>-0.591415</td>\n",
       "      <td>-0.431387</td>\n",
       "      <td>-0.477029</td>\n",
       "      <td>-0.389420</td>\n",
       "      <td>-0.353543</td>\n",
       "      <td>-0.192403</td>\n",
       "    </tr>\n",
       "    <tr>\n",
       "      <th>2</th>\n",
       "      <td>-0.410468</td>\n",
       "      <td>-0.079299</td>\n",
       "      <td>-0.079952</td>\n",
       "      <td>-0.198478</td>\n",
       "      <td>-0.403905</td>\n",
       "      <td>-0.075255</td>\n",
       "    </tr>\n",
       "    <tr>\n",
       "      <th>3</th>\n",
       "      <td>0.958693</td>\n",
       "      <td>0.699562</td>\n",
       "      <td>0.763836</td>\n",
       "      <td>0.947174</td>\n",
       "      <td>1.646917</td>\n",
       "      <td>0.779674</td>\n",
       "    </tr>\n",
       "    <tr>\n",
       "      <th>4</th>\n",
       "      <td>-0.516021</td>\n",
       "      <td>-0.442056</td>\n",
       "      <td>-0.427394</td>\n",
       "      <td>-0.507623</td>\n",
       "      <td>-0.376311</td>\n",
       "      <td>-0.420271</td>\n",
       "    </tr>\n",
       "    <tr>\n",
       "      <th>...</th>\n",
       "      <td>...</td>\n",
       "      <td>...</td>\n",
       "      <td>...</td>\n",
       "      <td>...</td>\n",
       "      <td>...</td>\n",
       "      <td>...</td>\n",
       "    </tr>\n",
       "    <tr>\n",
       "      <th>106</th>\n",
       "      <td>-0.938229</td>\n",
       "      <td>-0.890168</td>\n",
       "      <td>-0.864179</td>\n",
       "      <td>-0.934969</td>\n",
       "      <td>-0.849085</td>\n",
       "      <td>-0.807118</td>\n",
       "    </tr>\n",
       "    <tr>\n",
       "      <th>107</th>\n",
       "      <td>1.745809</td>\n",
       "      <td>1.201020</td>\n",
       "      <td>1.260182</td>\n",
       "      <td>1.347244</td>\n",
       "      <td>2.111575</td>\n",
       "      <td>1.284683</td>\n",
       "    </tr>\n",
       "    <tr>\n",
       "      <th>108</th>\n",
       "      <td>-0.371263</td>\n",
       "      <td>-0.335363</td>\n",
       "      <td>-0.328125</td>\n",
       "      <td>-0.280311</td>\n",
       "      <td>0.456099</td>\n",
       "      <td>-0.182932</td>\n",
       "    </tr>\n",
       "    <tr>\n",
       "      <th>109</th>\n",
       "      <td>-1.164713</td>\n",
       "      <td>-1.583674</td>\n",
       "      <td>-1.638478</td>\n",
       "      <td>-1.635090</td>\n",
       "      <td>-1.490381</td>\n",
       "      <td>-1.861841</td>\n",
       "    </tr>\n",
       "    <tr>\n",
       "      <th>110</th>\n",
       "      <td>1.670415</td>\n",
       "      <td>2.363977</td>\n",
       "      <td>2.322362</td>\n",
       "      <td>2.183752</td>\n",
       "      <td>-0.018079</td>\n",
       "      <td>0.959906</td>\n",
       "    </tr>\n",
       "  </tbody>\n",
       "</table>\n",
       "<p>111 rows × 6 columns</p>\n",
       "</div>"
      ],
      "text/plain": [
       "       Weight   Length1   Length2   Length3    Height     Width\n",
       "0   -1.157777 -1.562336 -1.598770 -1.607813 -1.517470 -1.733475\n",
       "1   -0.591415 -0.431387 -0.477029 -0.389420 -0.353543 -0.192403\n",
       "2   -0.410468 -0.079299 -0.079952 -0.198478 -0.403905 -0.075255\n",
       "3    0.958693  0.699562  0.763836  0.947174  1.646917  0.779674\n",
       "4   -0.516021 -0.442056 -0.427394 -0.507623 -0.376311 -0.420271\n",
       "..        ...       ...       ...       ...       ...       ...\n",
       "106 -0.938229 -0.890168 -0.864179 -0.934969 -0.849085 -0.807118\n",
       "107  1.745809  1.201020  1.260182  1.347244  2.111575  1.284683\n",
       "108 -0.371263 -0.335363 -0.328125 -0.280311  0.456099 -0.182932\n",
       "109 -1.164713 -1.583674 -1.638478 -1.635090 -1.490381 -1.861841\n",
       "110  1.670415  2.363977  2.322362  2.183752 -0.018079  0.959906\n",
       "\n",
       "[111 rows x 6 columns]"
      ]
     },
     "execution_count": 6,
     "metadata": {},
     "output_type": "execute_result"
    }
   ],
   "source": [
    "X_train"
   ]
  },
  {
   "cell_type": "code",
   "execution_count": 7,
   "metadata": {},
   "outputs": [
    {
     "data": {
      "text/plain": [
       "0      6\n",
       "1      1\n",
       "2      4\n",
       "3      0\n",
       "4      4\n",
       "      ..\n",
       "106    4\n",
       "107    0\n",
       "108    3\n",
       "109    6\n",
       "110    5\n",
       "Name: Species, Length: 111, dtype: int64"
      ]
     },
     "execution_count": 7,
     "metadata": {},
     "output_type": "execute_result"
    }
   ],
   "source": [
    "y_train"
   ]
  },
  {
   "cell_type": "code",
   "execution_count": 8,
   "metadata": {},
   "outputs": [
    {
     "data": {
      "text/plain": [
       "Perch        56\n",
       "Bream        35\n",
       "Roach        20\n",
       "Pike         17\n",
       "Smelt        14\n",
       "Parkki       11\n",
       "Whitefish     6\n",
       "Name: Species, dtype: int64"
      ]
     },
     "execution_count": 8,
     "metadata": {},
     "output_type": "execute_result"
    }
   ],
   "source": [
    "y.value_counts()"
   ]
  },
  {
   "cell_type": "code",
   "execution_count": 9,
   "metadata": {},
   "outputs": [
    {
     "data": {
      "text/plain": [
       "Text(0.5, 1.0, 'Training cost over time with batch gradient descent and alpha = 0.06')"
      ]
     },
     "execution_count": 9,
     "metadata": {},
     "output_type": "execute_result"
    },
    {
     "data": {
      "image/png": "[encoded data removed]",
      "text/plain": [
       "<Figure size 432x288 with 1 Axes>"
      ]
     },
     "metadata": {
      "needs_background": "light"
     },
     "output_type": "display_data"
    }
   ],
   "source": [
    "# k is the number of unique labels\n",
    "\n",
    "k = len(y.unique())\n",
    "\n",
    "if (X_train.shape[1] == X.shape[1]): \n",
    "    X_train.insert(0, \"intercept\", 1)\n",
    "    \n",
    "# Reset m and n for training data\n",
    "m, n = X_train.shape\n",
    "\n",
    "# Initialize theta for each class  \n",
    "theta_initial = np.ones((k,n))\n",
    "\n",
    "alpha = .06\n",
    "iterations = 300\n",
    "\n",
    "# Logistic regression\n",
    "\n",
    "theta, j_history = gradient_descent(X_train, y_train, theta_initial, alpha, iterations)\n",
    "\n",
    "#print('Optimized theta:\\n', theta)\n",
    "\n",
    "#print('Cost with optimized theta:', j_history[-1])\n",
    "\n",
    "plot_title = \"Training cost over time with batch gradient descent and alpha = {}\".format(alpha)\n",
    "\n",
    "# Plot\n",
    "plt.plot(j_history)\n",
    "plt.xlabel(\"Iteration\")\n",
    "plt.ylabel(\"J(theta)\")\n",
    "plt.title(plot_title)"
   ]
  },
  {
   "cell_type": "code",
   "execution_count": 10,
   "metadata": {},
   "outputs": [
    {
     "data": {
      "text/plain": [
       "array([[1.15186807, 1.13054432, 0.87768533, 0.95298286, 1.354988  ,\n",
       "        2.86086104, 0.90236668],\n",
       "       [1.17926427, 0.52174784, 0.8221829 , 0.80059663, 0.90705237,\n",
       "        0.85567343, 1.12750337],\n",
       "       [0.51898397, 1.08542305, 1.03041474, 1.04716824, 1.04995868,\n",
       "        1.04144188, 1.14908638],\n",
       "       [0.54653878, 0.89162023, 0.81780182, 0.81722269, 0.8443907 ,\n",
       "        1.3656774 , 0.84228539],\n",
       "       [2.62049241, 1.57139615, 0.96223474, 0.97701735, 0.48011627,\n",
       "        0.10141525, 2.0813105 ],\n",
       "       [0.76675586, 0.73240779, 1.81309631, 1.77395652, 1.72263185,\n",
       "        0.23866747, 0.5332086 ],\n",
       "       [0.23121217, 1.07655325, 0.68272118, 0.63741258, 0.64805583,\n",
       "        0.54744184, 0.37210556]])"
      ]
     },
     "execution_count": 10,
     "metadata": {},
     "output_type": "execute_result"
    }
   ],
   "source": [
    "theta_initial"
   ]
  },
  {
   "cell_type": "code",
   "execution_count": 11,
   "metadata": {},
   "outputs": [
    {
     "data": {
      "text/plain": [
       "(111, 7)"
      ]
     },
     "execution_count": 11,
     "metadata": {},
     "output_type": "execute_result"
    }
   ],
   "source": [
    "m,n"
   ]
  },
  {
   "cell_type": "code",
   "execution_count": 12,
   "metadata": {},
   "outputs": [
    {
     "name": "stdout",
     "output_type": "stream",
     "text": [
      "Accuracy: 0.7292\n"
     ]
    }
   ],
   "source": [
    "# Predicting classes on test data \n",
    "\n",
    "if (X_test.shape[1] == X.shape[1]): \n",
    "    X_test.insert(0, \"intercept\", 1)\n",
    "\n",
    "# Reset m and n for test data\n",
    "\n",
    "m,n = X_test.shape\n",
    "\n",
    "y_pred = []\n",
    "for index,row in X_test.iterrows():\n",
    "    h_matrix = h(row, theta)\n",
    "    prediction = int(np.where(h_matrix == h_matrix.max())[0])\n",
    "    y_pred.append(prediction)\n",
    "        \n",
    "# Estimate accuracy of model on test data        \n",
    "\n",
    "correct = (y_pred == y_test).value_counts()[True]\n",
    "accuracy = correct/m\n",
    "print('Accuracy: %.4f' % accuracy)"
   ]
  },
  {
   "cell_type": "markdown",
   "metadata": {},
   "source": [
    "Here, with $\\alpha = 0.06$ and 300 iterations we get an accuracy of 72.92%"
   ]
  },
  {
   "cell_type": "code",
   "execution_count": null,
   "metadata": {},
   "outputs": [],
   "source": []
  }
 ],
 "metadata": {
  "kernelspec": {
   "display_name": "Python 3 (ipykernel)",
   "language": "python",
   "name": "python3"
  },
  "language_info": {
   "codemirror_mode": {
    "name": "ipython",
    "version": 3
   },
   "file_extension": ".py",
   "mimetype": "text/x-python",
   "name": "python",
   "nbconvert_exporter": "python",
   "pygments_lexer": "ipython3",
   "version": "3.8.3"
  }
 },
 "nbformat": 4,
 "nbformat_minor": 4
}
